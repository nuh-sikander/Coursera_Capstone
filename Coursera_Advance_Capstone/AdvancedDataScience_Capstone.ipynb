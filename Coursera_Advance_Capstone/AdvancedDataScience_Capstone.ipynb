{
 "cells": [
  {
   "cell_type": "markdown",
   "metadata": {
    "collapsed": true
   },
   "source": [
    "# Nooh bin Sikander\n",
    "\n",
    "# Advanced Data Science with IBM Capstone: predicting outcome of a social benefit application\n",
    "This is the Capstone project for Coursera \"Advanced Data Science with IBM\" Specialization. We trying to predict the result (approved / not approved) of housing benefit application. This is a real life use case from my current employer (with no personal information included).\n",
    "\n",
    "## Problem description\n",
    "I am currently working for Social Security Institution of Finland, a government agency whose main job is to provide social benefits for people residing in Finland. One of the benefits is housing benefit, which supports people with their living expenses in case of for example unemployment. \n",
    "\n",
    "Currently housing benefit applications arrive from our e-service channel as XML document and some appendices (pdf or jpeg files, such as rental agreement) or in paper. If application arrives in paper, it and its appendices are scanned. The difference to e-service channel from case handler's point of view is that application information is not available as structured data, meaning the that application information has to be manually input to the system before benefit handling and decision-making can take place.\n",
    "\n",
    "It takes in the order of 10 minutes to process a housing benefit application (including the above mentioned manual input of data). While this does not sound like much, we receive in the order of 400 000 applications per year. If we could automate benefit decision making of even a subset of the applications, this would be useful for us and the taxpayers, too. Of these 400 000 applications, roughly 100 000 are \"new\" housing benefit applications, and 300 000 are \"control\" applications, meaning that the existing level of housing benefit is re-calculated based on changes in income, rent or other factors affecting the level of the benefit.\n",
    "\n",
    "We will try to answer the following question:\n",
    "* Can you predict the decision phrases of housing benefit applications, given application and relevant customer data (at least for some subset of applications)?"
   ]
  },
  {
   "cell_type": "markdown",
   "metadata": {},
   "source": [
    "\n",
    "## Initial data exploration\n",
    "Data of housing benefit applications and decisions is available in my company's data warehouse's staging area in a Netezza SQL database. The data is in some 40 database tables, much in the same format as in operative benefit system database - but with personal information masked. I will not be including personal information in the dataset at all, since they have no effect whatsoever on housing benefit decision contents.\n",
    "\n",
    "I can export data from Netezza as CSV files, which I can then upload to IBM Cloud for processing.\n",
    "\n",
    "A number of factors affect decisions of housing benefits:\n",
    "* Number of children in the household - the more children, the more benefit\n",
    "* Income of the members of household - income of all household members is taken into account. This can be for example\n",
    "    * Salary\n",
    "    * Other social benefits\n",
    "    * Dividends from stocks\n",
    "    * Interest from savings\n",
    "    * ...or any other form of income\n",
    "\n",
    "Of particular interest is that your wealth, in the form of apartments, houses, stocks or savings does not have any effect on housing benefit (rents from the apartments you own, dividends from stocks and interest from savings are considered income, though). This may sound counter-intuitive, but this is the way the legislation currently is.\n",
    "\n",
    "The information stated above can be fetched from the Netezza with SQL. We need to make quite a few joins, since the data has been quite heavily normalized in the operative databases, and staging area reflects this structure directly.\n",
    "`\n",
    "SELECT VIRA.ASIAKAS_ID as ClientNumber, VIRA.RATJNO as DecisionNumber, PERU.PAAJNO as DecisionVersion, SUBSTR(PERU.PERUKO,3,3) AS PhraseCode,\n",
    "\t\t\tPERU.PEKASI AS ManuallyAdded,  PERU.PEMUUT AS ManuallyChanged, MUU.MUETLJ AS OtherBenefitType, MUU.MUETOSA AS OtherBenefitSubType,\n",
    "\t\t\tTULO.TULOLJ AS IncomeType, HLO.RKASIAKAS_ID AS HouseholdMembers\n",
    "\tFROM KADMIN.STG_AYVIRA AS VIRA \n",
    "\t\tLEFT JOIN KADMIN.STG_AYRAT AS RAT ON VIRA.ASIAKAS_ID=RAT.ASIAKAS_ID AND VIRA.EJ=RAT.EJ AND VIRA.RATJNO=RAT.RATJNO AND VIRA.AJNO=RAT.AJNO\n",
    "\t\tLEFT JOIN KADMIN.STG_AYRMUET AS RMUU ON VIRA.ASIAKAS_ID=RMUU.ASIAKAS_ID AND VIRA.EJ=RMUU.EJ AND VIRA.RATJNO=RMUU.RATJNO\n",
    "\t\tLEFT JOIN KADMIN.STG_AYMUET AS MUU ON VIRA.ASIAKAS_ID=MUU.ASIAKAS_ID AND VIRA.EJ=MUU.EJ AND MUU.MUETJNO=RMUU.MUETJNO\n",
    "\t\tLEFT JOIN KADMIN.STG_AYRTULO AS RTULO ON VIRA.ASIAKAS_ID=RTULO.ASIAKAS_ID AND VIRA.EJ=RTULO.EJ AND VIRA.RATJNO=RTULO.RATJNO\n",
    "\t\tLEFT JOIN KADMIN.STG_AYTULO AS TULO ON VIRA.ASIAKAS_ID=TULO.ASIAKAS_ID AND VIRA.EJ=TULO.EJ AND TULO.TULOJNO=RTULO.TULOJNO\n",
    "\t\tLEFT JOIN KADMIN.STG_AYRRUOHE AS RHLO ON VIRA.ASIAKAS_ID=RHLO.ASIAKAS_ID AND VIRA.EJ=RHLO.EJ AND VIRA.RATJNO=RHLO.RATJNO\n",
    "\t\tLEFT JOIN KADMIN.STG_AYRUOHE AS HLO ON VIRA.ASIAKAS_ID=HLO.ASIAKAS_ID AND VIRA.EJ=HLO.EJ AND RHLO.RKJNO=HLO.RKJNO\n",
    "\t\tLEFT JOIN KADMIN.STG_RPPERU AS PERU ON RAT.ASIAKAS_ID=PERU.ASIAKAS_ID AND RAT.EJ=PERU.EJ AND RAT.RATJNO=PERU.RATJNO\n",
    "\t\tWHERE VIRA.VIRALJ='U' AND VIRA.EJ='AY' AND RAT.ELRATLA='MYÖ' AND VIRA.VIRAJNO=1 AND PERU.PAAJNO=1\n",
    "\t\tORDER BY VIRA.ASIAKAS_ID ASC, VIRA.RATJNO ASC, PERU.PERUJNO ASC\n",
    "\t\tLIMIT 500;\n",
    "`\n",
    "\n",
    "The WHERE clauses above limit the result set to \"new\" housing benefit applications for which a decision has been made. The PhraseCodes will be used to form our category labels in a way described later. Note that the where clauses are not  exactly same, meaning we have to be careful when combining data sets.\n",
    "\n",
    "Example outpt from statement:\n",
    "`\n",
    "CLIENTNUMBER\tDECISIONNUMBER\tDECISIONVERSION\tPHRASECODE\tMANUALLYADDED\tMANUALLYCHANGED\tOTHERBENEFITTYPE\tOTHERBENEFITSUBTYPE\tINCOMETYPE\tHOUSEHOLDMEMBERS\n",
    "333073408\t16\t1\tB15\tNULL\tK\tTP\tNULL\t01\t333073408\n",
    "333073408\t16\t1\tB15\tNULL\tK\tTP\tNULL\t01\t333073408\n",
    "333073408\t16\t1\tB15\tNULL\tK\tTP\tNULL\t01\t333073408\n",
    "333073408\t16\t1\tB15\tNULL\tK\tTP\tNULL\t01\t333073408\n",
    "333073408\t16\t1\tB15\tNULL\tK\tTP\tNULL\t01\t726046341\n",
    "333073408\t16\t1\tB15\tNULL\tK\tTP\tNULL\t01\t333073408\n",
    "`\n",
    "\n",
    "We can use the columns CLIENTNUMBER and DECISIONNUMBER to combine these datasets later. We can further see many things from the above examples:\n",
    "* There are a lot of NULL values\n",
    "* We need to do a lot of categorization (DECISION, OTHERBENEFITTYPE, OTHERBENEFITSUBTYPE, INCOMTETYPE)\n"
   ]
  },
  {
   "cell_type": "markdown",
   "metadata": {},
   "source": [
    "## Studying the dataset containing all housing benefit decision phrases\n",
    "We will first load and study dataset containing decision phrases of all housing benefit decisions"
   ]
  },
  {
   "cell_type": "code",
   "execution_count": 3,
   "metadata": {},
   "outputs": [],
   "source": [
    "# @hidden_cell\n",
    "# The following code accesses a file in your IBM Cloud Object Storage. It includes your credentials.\n",
    "# You might want to remove those credentials before you share your notebook.\n",
    "from ibm_botocore.client import Config\n",
    "import ibm_boto3\n",
    "import types\n",
    "import pandas as pd\n",
    "client_fb77205e2d164977b331a46f3ff3b2e9 = ibm_boto3.client(service_name='s3',\n",
    "    ibm_api_key_id='xxxxxxxxxxxxxxxxxxxxxxxxxxxxxxxxxxxxx',\n",
    "    ibm_auth_endpoint=\"https://iam.bluemix.net/oidc/token\",\n",
    "    config=Config(signature_version='oauth'),\n",
    "    endpoint_url='https://s3-api.us-geo.objectstorage.service.networklayer.com')\n",
    "def __iter__(self): return 0"
   ]
  },
  {
   "cell_type": "code",
   "execution_count": 2,
   "metadata": {},
   "outputs": [
    {
     "data": {
      "text/html": [
       "<div>\n",
       "<style scoped>\n",
       "    .dataframe tbody tr th:only-of-type {\n",
       "        vertical-align: middle;\n",
       "    }\n",
       "\n",
       "    .dataframe tbody tr th {\n",
       "        vertical-align: top;\n",
       "    }\n",
       "\n",
       "    .dataframe thead th {\n",
       "        text-align: right;\n",
       "    }\n",
       "</style>\n",
       "<table border=\"1\" class=\"dataframe\">\n",
       "  <thead>\n",
       "    <tr style=\"text-align: right;\">\n",
       "      <th></th>\n",
       "      <th>ClientNumber</th>\n",
       "      <th>DecisionNumber</th>\n",
       "      <th>PhraseCode</th>\n",
       "    </tr>\n",
       "  </thead>\n",
       "  <tbody>\n",
       "    <tr>\n",
       "      <th>0</th>\n",
       "      <td>332871451</td>\n",
       "      <td>1</td>\n",
       "      <td>C70</td>\n",
       "    </tr>\n",
       "    <tr>\n",
       "      <th>1</th>\n",
       "      <td>332871451</td>\n",
       "      <td>1</td>\n",
       "      <td>C60</td>\n",
       "    </tr>\n",
       "    <tr>\n",
       "      <th>2</th>\n",
       "      <td>332871451</td>\n",
       "      <td>1</td>\n",
       "      <td>C69</td>\n",
       "    </tr>\n",
       "    <tr>\n",
       "      <th>3</th>\n",
       "      <td>332871451</td>\n",
       "      <td>1</td>\n",
       "      <td>C72</td>\n",
       "    </tr>\n",
       "    <tr>\n",
       "      <th>4</th>\n",
       "      <td>332871451</td>\n",
       "      <td>1</td>\n",
       "      <td>C64</td>\n",
       "    </tr>\n",
       "  </tbody>\n",
       "</table>\n",
       "</div>"
      ],
      "text/plain": [
       "   ClientNumber  DecisionNumber PhraseCode\n",
       "0     332871451               1        C70\n",
       "1     332871451               1        C60\n",
       "2     332871451               1        C69\n",
       "3     332871451               1        C72\n",
       "4     332871451               1        C64"
      ]
     },
     "execution_count": 2,
     "metadata": {},
     "output_type": "execute_result"
    }
   ],
   "source": [
    "\n",
    "\n",
    "body = client_fb77205e2d164977b331a46f3ff3b2e9.get_object(Bucket='advanceddatascience-donotdelete-pr-ffioxbyq1okbiu',Key='AY_decision_phrases_all1.csv')['Body']\n",
    "# add missing __iter__ method, so pandas accepts body as file-like object\n",
    "if not hasattr(body, \"__iter__\"): body.__iter__ = types.MethodType( __iter__, body )\n",
    "\n",
    "df_phrases = pd.read_csv(body, sep='|', skiprows=[0], \n",
    "                         names=['ClientNumber','DecisionNumber','DecisionVersion','PhraseCode'], \n",
    "                         usecols=['ClientNumber','DecisionNumber','PhraseCode'], header=None)\n",
    "df_phrases.head()"
   ]
  },
  {
   "cell_type": "code",
   "execution_count": 3,
   "metadata": {},
   "outputs": [
    {
     "data": {
      "text/plain": [
       "(6191053, 3)"
      ]
     },
     "execution_count": 3,
     "metadata": {},
     "output_type": "execute_result"
    }
   ],
   "source": [
    "df_phrases.shape"
   ]
  },
  {
   "cell_type": "markdown",
   "metadata": {},
   "source": [
    "We need to group the dataframe so that decision phrases from a sincle decision get grouped together. We need to do this in such a way that the order of phrases is preserved. We can do this with Pandas groupby function, and applying join operation to the phrase list."
   ]
  },
  {
   "cell_type": "code",
   "execution_count": 4,
   "metadata": {},
   "outputs": [
    {
     "name": "stdout",
     "output_type": "stream",
     "text": [
      "CPU times: user 23.6 s, sys: 817 ms, total: 24.4 s\n",
      "Wall time: 24.4 s\n"
     ]
    },
    {
     "data": {
      "text/html": [
       "<div>\n",
       "<style scoped>\n",
       "    .dataframe tbody tr th:only-of-type {\n",
       "        vertical-align: middle;\n",
       "    }\n",
       "\n",
       "    .dataframe tbody tr th {\n",
       "        vertical-align: top;\n",
       "    }\n",
       "\n",
       "    .dataframe thead th {\n",
       "        text-align: right;\n",
       "    }\n",
       "</style>\n",
       "<table border=\"1\" class=\"dataframe\">\n",
       "  <thead>\n",
       "    <tr style=\"text-align: right;\">\n",
       "      <th></th>\n",
       "      <th>ClientNumber</th>\n",
       "      <th>DecisionNumber</th>\n",
       "      <th>PhraseCodes</th>\n",
       "    </tr>\n",
       "  </thead>\n",
       "  <tbody>\n",
       "    <tr>\n",
       "      <th>0</th>\n",
       "      <td>332871451</td>\n",
       "      <td>1</td>\n",
       "      <td>C70,C60,C69,C72,C64,C65,C74,Y10,M02,Z01,S03,D1...</td>\n",
       "    </tr>\n",
       "    <tr>\n",
       "      <th>1</th>\n",
       "      <td>332871457</td>\n",
       "      <td>2</td>\n",
       "      <td>C70,C60,C69,C72,C64,C65,C74,Y10,Y15,M01,Z02,S0...</td>\n",
       "    </tr>\n",
       "    <tr>\n",
       "      <th>2</th>\n",
       "      <td>332871463</td>\n",
       "      <td>2</td>\n",
       "      <td>C70,C60,C69,C72,C62,C63,C74,Y10,M01,Z02,S03,V0...</td>\n",
       "    </tr>\n",
       "    <tr>\n",
       "      <th>3</th>\n",
       "      <td>332871559</td>\n",
       "      <td>11</td>\n",
       "      <td>C02,C70,C60,C69,C72,C64,C65,C74,T01,Z02,S03,V0...</td>\n",
       "    </tr>\n",
       "    <tr>\n",
       "      <th>4</th>\n",
       "      <td>332871574</td>\n",
       "      <td>1</td>\n",
       "      <td>C70,C60,C69,C72,C64,C65,C74,Y10,Y15,M01,Z02,S0...</td>\n",
       "    </tr>\n",
       "  </tbody>\n",
       "</table>\n",
       "</div>"
      ],
      "text/plain": [
       "   ClientNumber  DecisionNumber  \\\n",
       "0     332871451               1   \n",
       "1     332871457               2   \n",
       "2     332871463               2   \n",
       "3     332871559              11   \n",
       "4     332871574               1   \n",
       "\n",
       "                                         PhraseCodes  \n",
       "0  C70,C60,C69,C72,C64,C65,C74,Y10,M02,Z01,S03,D1...  \n",
       "1  C70,C60,C69,C72,C64,C65,C74,Y10,Y15,M01,Z02,S0...  \n",
       "2  C70,C60,C69,C72,C62,C63,C74,Y10,M01,Z02,S03,V0...  \n",
       "3  C02,C70,C60,C69,C72,C64,C65,C74,T01,Z02,S03,V0...  \n",
       "4  C70,C60,C69,C72,C64,C65,C74,Y10,Y15,M01,Z02,S0...  "
      ]
     },
     "execution_count": 4,
     "metadata": {},
     "output_type": "execute_result"
    }
   ],
   "source": [
    "%time df_phrases_grouped = pd.DataFrame(df_phrases.groupby(['ClientNumber','DecisionNumber'], sort=False)['PhraseCode'].apply(','.join)).reset_index()\n",
    "df_phrases_grouped.rename(index=str, columns={'PhraseCode':'PhraseCodes'}, inplace=True)\n",
    "df_phrases_grouped.head()"
   ]
  },
  {
   "cell_type": "code",
   "execution_count": 5,
   "metadata": {},
   "outputs": [
    {
     "data": {
      "text/plain": [
       "(357405, 3)"
      ]
     },
     "execution_count": 5,
     "metadata": {},
     "output_type": "execute_result"
    }
   ],
   "source": [
    "df_phrases_grouped.shape"
   ]
  },
  {
   "cell_type": "markdown",
   "metadata": {},
   "source": [
    "For the business problem at hand, the list of phrase codes is actually a category for machine learning algorithms! In practise this means \"a document with the the following phrases in the following order\". Here we have 375k decisions. Let us see how many different \"categories\" there are, and how common the categories are."
   ]
  },
  {
   "cell_type": "code",
   "execution_count": 6,
   "metadata": {},
   "outputs": [
    {
     "data": {
      "text/plain": [
       "93207"
      ]
     },
     "execution_count": 6,
     "metadata": {},
     "output_type": "execute_result"
    }
   ],
   "source": [
    "len(df_phrases_grouped['PhraseCodes'].unique().tolist())"
   ]
  },
  {
   "cell_type": "markdown",
   "metadata": {},
   "source": [
    "This really does not look very good - 357405 decisions fall into 93207 different categories! We need to study this a little further. Let us see the frequency distribution of different categories. It is to expected that some categories are much more common than others."
   ]
  },
  {
   "cell_type": "code",
   "execution_count": 7,
   "metadata": {},
   "outputs": [
    {
     "data": {
      "text/html": [
       "<div>\n",
       "<style scoped>\n",
       "    .dataframe tbody tr th:only-of-type {\n",
       "        vertical-align: middle;\n",
       "    }\n",
       "\n",
       "    .dataframe tbody tr th {\n",
       "        vertical-align: top;\n",
       "    }\n",
       "\n",
       "    .dataframe thead th {\n",
       "        text-align: right;\n",
       "    }\n",
       "</style>\n",
       "<table border=\"1\" class=\"dataframe\">\n",
       "  <thead>\n",
       "    <tr style=\"text-align: right;\">\n",
       "      <th></th>\n",
       "      <th>PhraseCodes</th>\n",
       "      <th>Frequency</th>\n",
       "    </tr>\n",
       "  </thead>\n",
       "  <tbody>\n",
       "    <tr>\n",
       "      <th>0</th>\n",
       "      <td>L01,B34,V01,S03,W35</td>\n",
       "      <td>46878</td>\n",
       "    </tr>\n",
       "    <tr>\n",
       "      <th>1</th>\n",
       "      <td>L01,B34,V01,S03,S03,W35</td>\n",
       "      <td>8251</td>\n",
       "    </tr>\n",
       "    <tr>\n",
       "      <th>2</th>\n",
       "      <td>C01,C70,C60,C69,C72,C64,C65,C74,T01,Z02,S03,V0...</td>\n",
       "      <td>5005</td>\n",
       "    </tr>\n",
       "    <tr>\n",
       "      <th>3</th>\n",
       "      <td>L01,B34,V01,S03,S03,S03,W35</td>\n",
       "      <td>4902</td>\n",
       "    </tr>\n",
       "    <tr>\n",
       "      <th>4</th>\n",
       "      <td>C70,C60,C69,C72,C64,C65,C74,Y10,M01,Z02,S03,V0...</td>\n",
       "      <td>4628</td>\n",
       "    </tr>\n",
       "    <tr>\n",
       "      <th>5</th>\n",
       "      <td>B33,L01,S03,V01,W24,P01,W17,W25</td>\n",
       "      <td>4153</td>\n",
       "    </tr>\n",
       "    <tr>\n",
       "      <th>6</th>\n",
       "      <td>B19,L01,S03,V01</td>\n",
       "      <td>3684</td>\n",
       "    </tr>\n",
       "    <tr>\n",
       "      <th>7</th>\n",
       "      <td>C01,C70,C60,C69,C72,C64,C65,C74,Y11,T01,Z02,S0...</td>\n",
       "      <td>3384</td>\n",
       "    </tr>\n",
       "    <tr>\n",
       "      <th>8</th>\n",
       "      <td>L01,B34,V01,S03,S03,S03,S03,W35</td>\n",
       "      <td>2775</td>\n",
       "    </tr>\n",
       "    <tr>\n",
       "      <th>9</th>\n",
       "      <td>C01,C70,C60,C69,C72,C64,C65,C74,T01,Z02,S03,V0...</td>\n",
       "      <td>2543</td>\n",
       "    </tr>\n",
       "  </tbody>\n",
       "</table>\n",
       "</div>"
      ],
      "text/plain": [
       "                                         PhraseCodes  Frequency\n",
       "0                                L01,B34,V01,S03,W35      46878\n",
       "1                            L01,B34,V01,S03,S03,W35       8251\n",
       "2  C01,C70,C60,C69,C72,C64,C65,C74,T01,Z02,S03,V0...       5005\n",
       "3                        L01,B34,V01,S03,S03,S03,W35       4902\n",
       "4  C70,C60,C69,C72,C64,C65,C74,Y10,M01,Z02,S03,V0...       4628\n",
       "5                    B33,L01,S03,V01,W24,P01,W17,W25       4153\n",
       "6                                    B19,L01,S03,V01       3684\n",
       "7  C01,C70,C60,C69,C72,C64,C65,C74,Y11,T01,Z02,S0...       3384\n",
       "8                    L01,B34,V01,S03,S03,S03,S03,W35       2775\n",
       "9  C01,C70,C60,C69,C72,C64,C65,C74,T01,Z02,S03,V0...       2543"
      ]
     },
     "execution_count": 7,
     "metadata": {},
     "output_type": "execute_result"
    }
   ],
   "source": [
    "# Check whether some combinations are more common than others (this would be expected)\n",
    "df_phrasecomb_frequencies = pd.DataFrame(df_phrases_grouped['PhraseCodes'].value_counts()).reset_index()\n",
    "df_phrasecomb_frequencies.rename(index=str, columns={'index':'PhraseCodes','PhraseCodes':'Frequency'}, inplace=True)\n",
    "df_phrasecomb_frequencies.head(10)"
   ]
  },
  {
   "cell_type": "code",
   "execution_count": 8,
   "metadata": {},
   "outputs": [
    {
     "data": {
      "text/plain": [
       "(93207, 2)"
      ]
     },
     "execution_count": 8,
     "metadata": {},
     "output_type": "execute_result"
    }
   ],
   "source": [
    "df_phrasecomb_frequencies.shape"
   ]
  },
  {
   "cell_type": "code",
   "execution_count": 18,
   "metadata": {},
   "outputs": [
    {
     "data": {
      "text/plain": [
       "0                                   L01,B34,V01,S03,W35\n",
       "1                               L01,B34,V01,S03,S03,W35\n",
       "2     C01,C70,C60,C69,C72,C64,C65,C74,T01,Z02,S03,V0...\n",
       "3                           L01,B34,V01,S03,S03,S03,W35\n",
       "4     C70,C60,C69,C72,C64,C65,C74,Y10,M01,Z02,S03,V0...\n",
       "5                       B33,L01,S03,V01,W24,P01,W17,W25\n",
       "6                                       B19,L01,S03,V01\n",
       "7     C01,C70,C60,C69,C72,C64,C65,C74,Y11,T01,Z02,S0...\n",
       "8                       L01,B34,V01,S03,S03,S03,S03,W35\n",
       "9     C01,C70,C60,C69,C72,C64,C65,C74,T01,Z02,S03,V0...\n",
       "10                                  B15,Y10,H01,S03,V01\n",
       "11    C70,C60,C69,C72,C64,C65,C74,M01,Z02,S03,V01,U0...\n",
       "12                                      B15,H01,S03,V01\n",
       "13    C01,C70,C60,C69,C72,C64,C65,C74,Y11,T01,Z02,S0...\n",
       "14    C70,C60,C69,C72,C62,C63,C74,Y10,M01,Z02,S03,V0...\n",
       "15                                      B33,L01,S03,V01\n",
       "16    C01,C70,C60,C69,C72,C62,C63,C74,T01,Z02,S03,V0...\n",
       "17    O01,C01,C70,C60,C69,C72,C64,C65,C74,T03,T07,Z0...\n",
       "18                  L01,B34,V01,S03,S03,S03,S03,S03,W35\n",
       "19                  B33,L01,S01,S01,V01,W24,P01,W17,W25\n",
       "Name: PhraseCodes, dtype: object"
      ]
     },
     "execution_count": 18,
     "metadata": {},
     "output_type": "execute_result"
    }
   ],
   "source": [
    "df_phrasecomb_frequencies['PhraseCodes'][0:20]"
   ]
  },
  {
   "cell_type": "markdown",
   "metadata": {},
   "source": [
    "When the contents of the phrases are studied (sorry, available only in Finnish and Swedish), it is noted that the most common combination is a letter saying that housing benefit has been canceled, because the customer has not sent the required appendices in due time (in which case housing benefit cannot be calculated). This is a letter that is already being produced automatically with a batch program.\n",
    "\n",
    "Let us draw a bar chart of the the first let us say 100 items of the frequency distribution."
   ]
  },
  {
   "cell_type": "code",
   "execution_count": 29,
   "metadata": {},
   "outputs": [
    {
     "data": {
      "text/plain": [
       "Text(0.5,1,'Decisions by content in data set')"
      ]
     },
     "execution_count": 29,
     "metadata": {},
     "output_type": "execute_result"
    },
    {
     "data": {
      "image/png": "[encoded data removed]",
      "text/plain": [
       "<matplotlib.figure.Figure at 0x7f7317aba668>"
      ]
     },
     "metadata": {},
     "output_type": "display_data"
    }
   ],
   "source": [
    "# Bar chart of first n_items categories\n",
    "import matplotlib.pyplot as plt\n",
    "import numpy as np\n",
    "%matplotlib inline\n",
    "\n",
    "n_items = 100\n",
    "y_pos = np.arange(n_items)\n",
    "values = df_phrasecomb_frequencies['Frequency'][0:n_items]\n",
    "plt.figure(figsize=(20,10))\n",
    "plt.bar(y_pos, values, align='center', alpha=0.5)\n",
    "plt.ylabel('# of decisions with this content')\n",
    "plt.title('Decisions by content in data set')"
   ]
  },
  {
   "cell_type": "markdown",
   "metadata": {},
   "source": [
    "As we can see, the list of frequencies has got a really long and shallow tail. Let us see, for example, the frequencies of decisions in 90-100th most common range "
   ]
  },
  {
   "cell_type": "code",
   "execution_count": 25,
   "metadata": {},
   "outputs": [
    {
     "data": {
      "text/html": [
       "<div>\n",
       "<style scoped>\n",
       "    .dataframe tbody tr th:only-of-type {\n",
       "        vertical-align: middle;\n",
       "    }\n",
       "\n",
       "    .dataframe tbody tr th {\n",
       "        vertical-align: top;\n",
       "    }\n",
       "\n",
       "    .dataframe thead th {\n",
       "        text-align: right;\n",
       "    }\n",
       "</style>\n",
       "<table border=\"1\" class=\"dataframe\">\n",
       "  <thead>\n",
       "    <tr style=\"text-align: right;\">\n",
       "      <th></th>\n",
       "      <th>PhraseCodes</th>\n",
       "      <th>Frequency</th>\n",
       "    </tr>\n",
       "  </thead>\n",
       "  <tbody>\n",
       "    <tr>\n",
       "      <th>90</th>\n",
       "      <td>O01,C01,C70,C60,C72,C64,C65,C74,T03,T07,Z02,S0...</td>\n",
       "      <td>285</td>\n",
       "    </tr>\n",
       "    <tr>\n",
       "      <th>91</th>\n",
       "      <td>B33,L01,S01,S01,S01,S01,V01,W24,P01,W17,W25</td>\n",
       "      <td>284</td>\n",
       "    </tr>\n",
       "    <tr>\n",
       "      <th>92</th>\n",
       "      <td>C02,C70,C60,C69,C72,C64,C65,C74,Y15,T01,Z02,S0...</td>\n",
       "      <td>283</td>\n",
       "    </tr>\n",
       "    <tr>\n",
       "      <th>93</th>\n",
       "      <td>C70,C60,C69,C72,C64,C65,C74,M01,Z02,S03,V01,U0...</td>\n",
       "      <td>280</td>\n",
       "    </tr>\n",
       "    <tr>\n",
       "      <th>94</th>\n",
       "      <td>C01,C70,C60,C69,C72,C64,C65,C74,Y11,T01,Z02,S0...</td>\n",
       "      <td>278</td>\n",
       "    </tr>\n",
       "    <tr>\n",
       "      <th>95</th>\n",
       "      <td>B19,L01,S03,V01,P02</td>\n",
       "      <td>278</td>\n",
       "    </tr>\n",
       "    <tr>\n",
       "      <th>96</th>\n",
       "      <td>C01,C70,C60,C69,C72,C64,C65,C74,Y11,T01,Z02,S0...</td>\n",
       "      <td>270</td>\n",
       "    </tr>\n",
       "    <tr>\n",
       "      <th>97</th>\n",
       "      <td>C01,C70,C60,C69,C78,C81,C72,C64,C65,C74,T01,Z0...</td>\n",
       "      <td>267</td>\n",
       "    </tr>\n",
       "    <tr>\n",
       "      <th>98</th>\n",
       "      <td>C70,C60,C69,C78,C76,C72,C64,C65,C74,Y10,M01,Z0...</td>\n",
       "      <td>264</td>\n",
       "    </tr>\n",
       "    <tr>\n",
       "      <th>99</th>\n",
       "      <td>C02,C70,C60,C69,C72,C64,C65,C74,Y11,Y15,T01,Z0...</td>\n",
       "      <td>262</td>\n",
       "    </tr>\n",
       "  </tbody>\n",
       "</table>\n",
       "</div>"
      ],
      "text/plain": [
       "                                          PhraseCodes  Frequency\n",
       "90  O01,C01,C70,C60,C72,C64,C65,C74,T03,T07,Z02,S0...        285\n",
       "91        B33,L01,S01,S01,S01,S01,V01,W24,P01,W17,W25        284\n",
       "92  C02,C70,C60,C69,C72,C64,C65,C74,Y15,T01,Z02,S0...        283\n",
       "93  C70,C60,C69,C72,C64,C65,C74,M01,Z02,S03,V01,U0...        280\n",
       "94  C01,C70,C60,C69,C72,C64,C65,C74,Y11,T01,Z02,S0...        278\n",
       "95                                B19,L01,S03,V01,P02        278\n",
       "96  C01,C70,C60,C69,C72,C64,C65,C74,Y11,T01,Z02,S0...        270\n",
       "97  C01,C70,C60,C69,C78,C81,C72,C64,C65,C74,T01,Z0...        267\n",
       "98  C70,C60,C69,C78,C76,C72,C64,C65,C74,Y10,M01,Z0...        264\n",
       "99  C02,C70,C60,C69,C72,C64,C65,C74,Y11,Y15,T01,Z0...        262"
      ]
     },
     "execution_count": 25,
     "metadata": {},
     "output_type": "execute_result"
    }
   ],
   "source": [
    "df_phrasecomb_frequencies[90:100]"
   ]
  },
  {
   "cell_type": "markdown",
   "metadata": {},
   "source": [
    "Let us see how many categories have 50 or more examples."
   ]
  },
  {
   "cell_type": "code",
   "execution_count": 37,
   "metadata": {},
   "outputs": [
    {
     "data": {
      "text/plain": [
       "553"
      ]
     },
     "execution_count": 37,
     "metadata": {},
     "output_type": "execute_result"
    }
   ],
   "source": [
    "df_phrasecomb_frequencies[df_phrasecomb_frequencies['Frequency'] > 49].shape[0]"
   ]
  },
  {
   "cell_type": "markdown",
   "metadata": {},
   "source": [
    "This may be too many categories."
   ]
  },
  {
   "cell_type": "markdown",
   "metadata": {},
   "source": [
    "## Interim result 1\n",
    "It seems we are better off limiting the data set. The original data set consisted of all housing benefit decisions for the year 2018. Let us limit this dataset further by selecting only approved decisions of new applications. The original dataset contains all types of applications (most notably, control applications, too) and both approved and non-approved applications.\n",
    "\n",
    "Businesswise this still makes sense, since we already have logic in place for deciding whether a application gets approved or not, and for each application we know the type of application in the very beginning of the application handling process."
   ]
  },
  {
   "cell_type": "code",
   "execution_count": 100,
   "metadata": {},
   "outputs": [
    {
     "data": {
      "text/html": [
       "<div>\n",
       "<style scoped>\n",
       "    .dataframe tbody tr th:only-of-type {\n",
       "        vertical-align: middle;\n",
       "    }\n",
       "\n",
       "    .dataframe tbody tr th {\n",
       "        vertical-align: top;\n",
       "    }\n",
       "\n",
       "    .dataframe thead th {\n",
       "        text-align: right;\n",
       "    }\n",
       "</style>\n",
       "<table border=\"1\" class=\"dataframe\">\n",
       "  <thead>\n",
       "    <tr style=\"text-align: right;\">\n",
       "      <th></th>\n",
       "      <th>ClientNumber</th>\n",
       "      <th>DecisionNumber</th>\n",
       "      <th>PhraseCode</th>\n",
       "    </tr>\n",
       "  </thead>\n",
       "  <tbody>\n",
       "    <tr>\n",
       "      <th>0</th>\n",
       "      <td>332871451</td>\n",
       "      <td>1</td>\n",
       "      <td>C70</td>\n",
       "    </tr>\n",
       "    <tr>\n",
       "      <th>1</th>\n",
       "      <td>332871451</td>\n",
       "      <td>1</td>\n",
       "      <td>C60</td>\n",
       "    </tr>\n",
       "    <tr>\n",
       "      <th>2</th>\n",
       "      <td>332871451</td>\n",
       "      <td>1</td>\n",
       "      <td>C69</td>\n",
       "    </tr>\n",
       "    <tr>\n",
       "      <th>3</th>\n",
       "      <td>332871451</td>\n",
       "      <td>1</td>\n",
       "      <td>C72</td>\n",
       "    </tr>\n",
       "    <tr>\n",
       "      <th>4</th>\n",
       "      <td>332871451</td>\n",
       "      <td>1</td>\n",
       "      <td>C64</td>\n",
       "    </tr>\n",
       "  </tbody>\n",
       "</table>\n",
       "</div>"
      ],
      "text/plain": [
       "   ClientNumber  DecisionNumber PhraseCode\n",
       "0     332871451               1        C70\n",
       "1     332871451               1        C60\n",
       "2     332871451               1        C69\n",
       "3     332871451               1        C72\n",
       "4     332871451               1        C64"
      ]
     },
     "execution_count": 100,
     "metadata": {},
     "output_type": "execute_result"
    }
   ],
   "source": [
    "body = client_fb77205e2d164977b331a46f3ff3b2e9.get_object(Bucket='advanceddatascience-donotdelete-pr-ffioxbyq1okbiu',Key='AY_approved_first_decision_phrases.csv')['Body']\n",
    "# add missing __iter__ method, so pandas accepts body as file-like object\n",
    "if not hasattr(body, \"__iter__\"): body.__iter__ = types.MethodType( __iter__, body )\n",
    "\n",
    "df_first_approve = pd.read_csv(body, sep='|', skiprows=[0], \n",
    "                         names=['ClientNumber','DecisionNumber','DecisionVersion','PhraseCode'], \n",
    "                         usecols=['ClientNumber','DecisionNumber','PhraseCode'], header=None)\n",
    "df_first_approve.head()\n"
   ]
  },
  {
   "cell_type": "code",
   "execution_count": 101,
   "metadata": {},
   "outputs": [
    {
     "data": {
      "text/html": [
       "<div>\n",
       "<style scoped>\n",
       "    .dataframe tbody tr th:only-of-type {\n",
       "        vertical-align: middle;\n",
       "    }\n",
       "\n",
       "    .dataframe tbody tr th {\n",
       "        vertical-align: top;\n",
       "    }\n",
       "\n",
       "    .dataframe thead th {\n",
       "        text-align: right;\n",
       "    }\n",
       "</style>\n",
       "<table border=\"1\" class=\"dataframe\">\n",
       "  <thead>\n",
       "    <tr style=\"text-align: right;\">\n",
       "      <th></th>\n",
       "      <th>ClientNumber</th>\n",
       "      <th>DecisionNumber</th>\n",
       "      <th>PhraseCodes</th>\n",
       "    </tr>\n",
       "  </thead>\n",
       "  <tbody>\n",
       "    <tr>\n",
       "      <th>0</th>\n",
       "      <td>332871451</td>\n",
       "      <td>1</td>\n",
       "      <td>C70,C60,C69,C72,C64,C65,C74,Y10,M02,Z01,S03,D1...</td>\n",
       "    </tr>\n",
       "    <tr>\n",
       "      <th>1</th>\n",
       "      <td>332871574</td>\n",
       "      <td>1</td>\n",
       "      <td>C70,C60,C69,C72,C64,C65,C74,Y10,Y15,M01,Z02,S0...</td>\n",
       "    </tr>\n",
       "    <tr>\n",
       "      <th>2</th>\n",
       "      <td>332871613</td>\n",
       "      <td>1</td>\n",
       "      <td>C70,C60,C69,C72,C64,C65,C74,Y10,Y15,M01,Z02,S0...</td>\n",
       "    </tr>\n",
       "    <tr>\n",
       "      <th>3</th>\n",
       "      <td>332872984</td>\n",
       "      <td>1</td>\n",
       "      <td>C70,C60,C69,C73,C72,C64,C65,C74,Y10,M01,Z02,S0...</td>\n",
       "    </tr>\n",
       "    <tr>\n",
       "      <th>4</th>\n",
       "      <td>332873008</td>\n",
       "      <td>1</td>\n",
       "      <td>C70,C60,C69,C72,C62,C63,C74,Y10,M01,Z02,S03,V0...</td>\n",
       "    </tr>\n",
       "  </tbody>\n",
       "</table>\n",
       "</div>"
      ],
      "text/plain": [
       "   ClientNumber  DecisionNumber  \\\n",
       "0     332871451               1   \n",
       "1     332871574               1   \n",
       "2     332871613               1   \n",
       "3     332872984               1   \n",
       "4     332873008               1   \n",
       "\n",
       "                                         PhraseCodes  \n",
       "0  C70,C60,C69,C72,C64,C65,C74,Y10,M02,Z01,S03,D1...  \n",
       "1  C70,C60,C69,C72,C64,C65,C74,Y10,Y15,M01,Z02,S0...  \n",
       "2  C70,C60,C69,C72,C64,C65,C74,Y10,Y15,M01,Z02,S0...  \n",
       "3  C70,C60,C69,C73,C72,C64,C65,C74,Y10,M01,Z02,S0...  \n",
       "4  C70,C60,C69,C72,C62,C63,C74,Y10,M01,Z02,S03,V0...  "
      ]
     },
     "execution_count": 101,
     "metadata": {},
     "output_type": "execute_result"
    }
   ],
   "source": [
    "df_first_approve_grouped = pd.DataFrame(df_first_approve.groupby(['ClientNumber','DecisionNumber'], sort=False)['PhraseCode'].apply(','.join)).reset_index()\n",
    "df_first_approve_grouped.rename(index=str, columns={'PhraseCode':'PhraseCodes'}, inplace=True)\n",
    "df_first_approve_grouped.head()"
   ]
  },
  {
   "cell_type": "code",
   "execution_count": 102,
   "metadata": {},
   "outputs": [
    {
     "data": {
      "text/plain": [
       "'C70,C60,C69,C72,C64,C65,C74,Y10,M02,Z01,S03,D11,V01,U03,U04,J02,Q25,Q04,Q01,Q02,Q02,Q06,Q07'"
      ]
     },
     "execution_count": 102,
     "metadata": {},
     "output_type": "execute_result"
    }
   ],
   "source": [
    "df_first_approve_grouped['PhraseCodes'][0]"
   ]
  },
  {
   "cell_type": "code",
   "execution_count": 32,
   "metadata": {},
   "outputs": [
    {
     "data": {
      "text/plain": [
       "(59182, 3)"
      ]
     },
     "execution_count": 32,
     "metadata": {},
     "output_type": "execute_result"
    }
   ],
   "source": [
    "df_first_approve_grouped.shape"
   ]
  },
  {
   "cell_type": "code",
   "execution_count": 33,
   "metadata": {},
   "outputs": [
    {
     "data": {
      "text/html": [
       "<div>\n",
       "<style scoped>\n",
       "    .dataframe tbody tr th:only-of-type {\n",
       "        vertical-align: middle;\n",
       "    }\n",
       "\n",
       "    .dataframe tbody tr th {\n",
       "        vertical-align: top;\n",
       "    }\n",
       "\n",
       "    .dataframe thead th {\n",
       "        text-align: right;\n",
       "    }\n",
       "</style>\n",
       "<table border=\"1\" class=\"dataframe\">\n",
       "  <thead>\n",
       "    <tr style=\"text-align: right;\">\n",
       "      <th></th>\n",
       "      <th>PhraseCodes</th>\n",
       "      <th>Frequency</th>\n",
       "    </tr>\n",
       "  </thead>\n",
       "  <tbody>\n",
       "    <tr>\n",
       "      <th>0</th>\n",
       "      <td>C70,C60,C69,C72,C64,C65,C74,Y10,M01,Z02,S03,V0...</td>\n",
       "      <td>4547</td>\n",
       "    </tr>\n",
       "    <tr>\n",
       "      <th>1</th>\n",
       "      <td>C70,C60,C69,C72,C64,C65,C74,M01,Z02,S03,V01,U0...</td>\n",
       "      <td>1883</td>\n",
       "    </tr>\n",
       "    <tr>\n",
       "      <th>2</th>\n",
       "      <td>C70,C60,C69,C72,C62,C63,C74,Y10,M01,Z02,S03,V0...</td>\n",
       "      <td>1674</td>\n",
       "    </tr>\n",
       "    <tr>\n",
       "      <th>3</th>\n",
       "      <td>C70,C60,C69,C73,C72,C64,C65,C74,Y10,M01,Z02,S0...</td>\n",
       "      <td>921</td>\n",
       "    </tr>\n",
       "    <tr>\n",
       "      <th>4</th>\n",
       "      <td>C70,C60,C69,C78,C72,C64,C65,C74,Y10,M01,Z02,S0...</td>\n",
       "      <td>857</td>\n",
       "    </tr>\n",
       "  </tbody>\n",
       "</table>\n",
       "</div>"
      ],
      "text/plain": [
       "                                         PhraseCodes  Frequency\n",
       "0  C70,C60,C69,C72,C64,C65,C74,Y10,M01,Z02,S03,V0...       4547\n",
       "1  C70,C60,C69,C72,C64,C65,C74,M01,Z02,S03,V01,U0...       1883\n",
       "2  C70,C60,C69,C72,C62,C63,C74,Y10,M01,Z02,S03,V0...       1674\n",
       "3  C70,C60,C69,C73,C72,C64,C65,C74,Y10,M01,Z02,S0...        921\n",
       "4  C70,C60,C69,C78,C72,C64,C65,C74,Y10,M01,Z02,S0...        857"
      ]
     },
     "execution_count": 33,
     "metadata": {},
     "output_type": "execute_result"
    }
   ],
   "source": [
    "df_phrasecomb_frequencies2 = pd.DataFrame(df_first_approve_grouped['PhraseCodes'].value_counts()).reset_index()\n",
    "df_phrasecomb_frequencies2.rename(index=str, columns={'index':'PhraseCodes','PhraseCodes':'Frequency'}, inplace=True)\n",
    "df_phrasecomb_frequencies2.head()"
   ]
  },
  {
   "cell_type": "code",
   "execution_count": 34,
   "metadata": {},
   "outputs": [
    {
     "data": {
      "text/plain": [
       "(13875, 2)"
      ]
     },
     "execution_count": 34,
     "metadata": {},
     "output_type": "execute_result"
    }
   ],
   "source": [
    "df_phrasecomb_frequencies2.shape"
   ]
  },
  {
   "cell_type": "code",
   "execution_count": 36,
   "metadata": {},
   "outputs": [
    {
     "data": {
      "text/plain": [
       "129"
      ]
     },
     "execution_count": 36,
     "metadata": {},
     "output_type": "execute_result"
    }
   ],
   "source": [
    "df_phrasecomb_frequencies2[df_phrasecomb_frequencies2['Frequency'] > 49].shape[0]"
   ]
  },
  {
   "cell_type": "markdown",
   "metadata": {},
   "source": [
    "# Interim result 2\n",
    "\n",
    "This looks slightly better - 59182 decisions in 13875 categories, 129 of which contain more than 50 examples. We'll continue with this data set.\n",
    "\n",
    "Now we need the features for the data to be used in the modeling. Based on the domain knowledge and studying the contents of the decisions, it seems that most of the variation in contents is based on \n",
    "* other benefits of the applicant (these affect the level of benefit and are listed in decisions)\n",
    "* income types of the applicant (these affect the level of benefit, too)\n",
    "* household members (these are listed in decision and again affect the level of benefit)\n",
    "\n",
    "The end result is a CSV file much bigger (3,7 gigabytes) than the previous one - it is still produced by one SQL statement, meaning that there is quite much repeated information in the file. Luckily, we can read the CSV file and use \"categorical\" datatype, which is much better memorywise. We still have to read in chunks and do grouping on the fly in order to be able to process the file.\n",
    "\n",
    "NOTE: this data set has been fetched at a later time and is thus bigger than the previous ones."
   ]
  },
  {
   "cell_type": "code",
   "execution_count": 4,
   "metadata": {},
   "outputs": [
    {
     "data": {
      "text/html": [
       "<div>\n",
       "<style scoped>\n",
       "    .dataframe tbody tr th:only-of-type {\n",
       "        vertical-align: middle;\n",
       "    }\n",
       "\n",
       "    .dataframe tbody tr th {\n",
       "        vertical-align: top;\n",
       "    }\n",
       "\n",
       "    .dataframe thead th {\n",
       "        text-align: right;\n",
       "    }\n",
       "</style>\n",
       "<table border=\"1\" class=\"dataframe\">\n",
       "  <thead>\n",
       "    <tr style=\"text-align: right;\">\n",
       "      <th></th>\n",
       "      <th>ClientNumber</th>\n",
       "      <th>DecisionNumber</th>\n",
       "      <th>HouseholdMembers</th>\n",
       "      <th>IncomeTypes</th>\n",
       "      <th>ManuallyAdded</th>\n",
       "      <th>ManuallyModified</th>\n",
       "      <th>OtherBenefitSubTypes</th>\n",
       "      <th>OtherBenefitTypes</th>\n",
       "      <th>PhraseCodes</th>\n",
       "    </tr>\n",
       "  </thead>\n",
       "  <tbody>\n",
       "    <tr>\n",
       "      <th>0</th>\n",
       "      <td>332871451</td>\n",
       "      <td>1</td>\n",
       "      <td>{332871451}</td>\n",
       "      <td>{nan}</td>\n",
       "      <td>{nan}</td>\n",
       "      <td>{nan}</td>\n",
       "      <td>{OR}</td>\n",
       "      <td>{OT}</td>\n",
       "      <td>[C70, C60, C69, C72, C64, C65, C74, Y10, M02, ...</td>\n",
       "    </tr>\n",
       "    <tr>\n",
       "      <th>1</th>\n",
       "      <td>332871574</td>\n",
       "      <td>1</td>\n",
       "      <td>{332871574}</td>\n",
       "      <td>{nan}</td>\n",
       "      <td>{nan, K}</td>\n",
       "      <td>{nan, K}</td>\n",
       "      <td>{nan}</td>\n",
       "      <td>{TM}</td>\n",
       "      <td>[C70, C60, C69, C72, C64, C65, C74, Y10, Y15, ...</td>\n",
       "    </tr>\n",
       "    <tr>\n",
       "      <th>2</th>\n",
       "      <td>332871613</td>\n",
       "      <td>1</td>\n",
       "      <td>{332871613, 905825343}</td>\n",
       "      <td>{nan}</td>\n",
       "      <td>{nan}</td>\n",
       "      <td>{nan}</td>\n",
       "      <td>{HL, HH}</td>\n",
       "      <td>{WH}</td>\n",
       "      <td>[C70, C70, C70, C70, C60, C60, C60, C60, C69, ...</td>\n",
       "    </tr>\n",
       "    <tr>\n",
       "      <th>3</th>\n",
       "      <td>332872984</td>\n",
       "      <td>1</td>\n",
       "      <td>{332872984}</td>\n",
       "      <td>{30}</td>\n",
       "      <td>{nan, K}</td>\n",
       "      <td>{nan, E}</td>\n",
       "      <td>{nan}</td>\n",
       "      <td>{nan}</td>\n",
       "      <td>[C70, C60, C69, C73, C72, C64, C65, C74, Y10, ...</td>\n",
       "    </tr>\n",
       "    <tr>\n",
       "      <th>4</th>\n",
       "      <td>332873008</td>\n",
       "      <td>1</td>\n",
       "      <td>{332873008}</td>\n",
       "      <td>{nan}</td>\n",
       "      <td>{nan}</td>\n",
       "      <td>{nan}</td>\n",
       "      <td>{nan}</td>\n",
       "      <td>{KR}</td>\n",
       "      <td>[C70, C60, C69, C72, C62, C63, C74, Y10, M01, ...</td>\n",
       "    </tr>\n",
       "  </tbody>\n",
       "</table>\n",
       "</div>"
      ],
      "text/plain": [
       "   ClientNumber  DecisionNumber        HouseholdMembers IncomeTypes  \\\n",
       "0     332871451               1             {332871451}       {nan}   \n",
       "1     332871574               1             {332871574}       {nan}   \n",
       "2     332871613               1  {332871613, 905825343}       {nan}   \n",
       "3     332872984               1             {332872984}        {30}   \n",
       "4     332873008               1             {332873008}       {nan}   \n",
       "\n",
       "  ManuallyAdded ManuallyModified OtherBenefitSubTypes OtherBenefitTypes  \\\n",
       "0         {nan}            {nan}                 {OR}              {OT}   \n",
       "1      {nan, K}         {nan, K}                {nan}              {TM}   \n",
       "2         {nan}            {nan}             {HL, HH}              {WH}   \n",
       "3      {nan, K}         {nan, E}                {nan}             {nan}   \n",
       "4         {nan}            {nan}                {nan}              {KR}   \n",
       "\n",
       "                                         PhraseCodes  \n",
       "0  [C70, C60, C69, C72, C64, C65, C74, Y10, M02, ...  \n",
       "1  [C70, C60, C69, C72, C64, C65, C74, Y10, Y15, ...  \n",
       "2  [C70, C70, C70, C70, C60, C60, C60, C60, C69, ...  \n",
       "3  [C70, C60, C69, C73, C72, C64, C65, C74, Y10, ...  \n",
       "4  [C70, C60, C69, C72, C62, C63, C74, Y10, M01, ...  "
      ]
     },
     "execution_count": 4,
     "metadata": {},
     "output_type": "execute_result"
    }
   ],
   "source": [
    "def __iter__(self): return 0\n",
    "body = client_fb77205e2d164977b331a46f3ff3b2e9.get_object(Bucket='advanceddatascience-donotdelete-pr-ffioxbyq1okbiu',Key='AY_approved_first_check_all_data2.csv')['Body']\n",
    "# add missing __iter__ method, so pandas accepts body as file-like object\n",
    "if not hasattr(body, \"__iter__\"): body.__iter__ = types.MethodType( __iter__, body )\n",
    "import os, pandas as pd\n",
    "\n",
    "df_first_approve_all_grouped = pd.DataFrame() \n",
    "\n",
    "def f2(x):\n",
    "     return pd.Series(dict(\n",
    "                        OtherBenefitTypes = set(x['OtherBenefitType']), \n",
    "                        OtherBenefitSubTypes = set(x['OtherBenefitSubType']), \n",
    "                        IncomeTypes = set(x['IncomeType']),\n",
    "                        ManuallyAdded = set(x['ManuallyAdded']),\n",
    "                        ManuallyModified = set(x['ManuallyModified']),\n",
    "                        HouseholdMembers = set(x['HouseholdMemberClientId']),\n",
    "                        PhraseCodes = list(x['PhraseCode'])))\n",
    "\n",
    "chunks = pd.read_csv(body, sep='|', skiprows=[0],\n",
    "                         names=['ClientNumber','DecisionNumber','DecisionVersion','PhraseCode', 'ManuallyAdded', 'ManuallyModified', 'OtherBenefitType','OtherBenefitSubType', 'IncomeType','HouseholdMemberClientId'], \n",
    "                         usecols=['ClientNumber','DecisionNumber','PhraseCode','ManuallyAdded', 'ManuallyModified', 'OtherBenefitType', 'OtherBenefitSubType','IncomeType','HouseholdMemberClientId'],\n",
    "                         dtype={'PhraseCode':'category','OtherBenefitType':'category', 'OtherBenefitSubType':'category','IncomeType':'category','HouseholdMemberClientId':'category','ManuallyAdded':'category', 'ManuallyModified':'category'},\n",
    "                         header=None, encoding='utf-8', chunksize=50000)\n",
    "\n",
    "for chunk in chunks:\n",
    "    df_first_approve_all_grouped = df_first_approve_all_grouped.append(chunk.groupby(['ClientNumber','DecisionNumber'], sort=False).apply(f2))\n",
    "df_first_approve_all_grouped = df_first_approve_all_grouped.reset_index()\n",
    "df_first_approve_all_grouped.head()"
   ]
  },
  {
   "cell_type": "markdown",
   "metadata": {},
   "source": [
    "Here we skip some boring data processing where we got rid of the sets ans lists, and calculated the number of household members, plus dropped columns ManuallyAdded and ManuallyModified."
   ]
  },
  {
   "cell_type": "code",
   "execution_count": 103,
   "metadata": {},
   "outputs": [
    {
     "data": {
      "text/html": [
       "<div>\n",
       "<style scoped>\n",
       "    .dataframe tbody tr th:only-of-type {\n",
       "        vertical-align: middle;\n",
       "    }\n",
       "\n",
       "    .dataframe tbody tr th {\n",
       "        vertical-align: top;\n",
       "    }\n",
       "\n",
       "    .dataframe thead th {\n",
       "        text-align: right;\n",
       "    }\n",
       "</style>\n",
       "<table border=\"1\" class=\"dataframe\">\n",
       "  <thead>\n",
       "    <tr style=\"text-align: right;\">\n",
       "      <th></th>\n",
       "      <th>ClientNumber</th>\n",
       "      <th>DecisionNumber</th>\n",
       "      <th>IncomeTypes</th>\n",
       "      <th>OtherBenefitTypes</th>\n",
       "      <th>OtherBenefitSubTypes</th>\n",
       "      <th>PhraseCodes</th>\n",
       "      <th>NumberOfHouseholdMembers</th>\n",
       "    </tr>\n",
       "  </thead>\n",
       "  <tbody>\n",
       "    <tr>\n",
       "      <th>0</th>\n",
       "      <td>332871451</td>\n",
       "      <td>1</td>\n",
       "      <td></td>\n",
       "      <td>OT</td>\n",
       "      <td>OR</td>\n",
       "      <td>C70,C60,C69,C72,C64,C65,C74,Y10,M02,Z01,S03,D1...</td>\n",
       "      <td>1</td>\n",
       "    </tr>\n",
       "    <tr>\n",
       "      <th>1</th>\n",
       "      <td>332871574</td>\n",
       "      <td>1</td>\n",
       "      <td></td>\n",
       "      <td>TM</td>\n",
       "      <td></td>\n",
       "      <td>C70,C60,C69,C72,C64,C65,C74,Y10,Y15,M01,Z02,S0...</td>\n",
       "      <td>1</td>\n",
       "    </tr>\n",
       "    <tr>\n",
       "      <th>2</th>\n",
       "      <td>332871613</td>\n",
       "      <td>1</td>\n",
       "      <td></td>\n",
       "      <td>WH</td>\n",
       "      <td>HH,HL</td>\n",
       "      <td>C70,C60,C69,C72,C64,C65,C74,Y10,Y15,M01,Z02,S0...</td>\n",
       "      <td>2</td>\n",
       "    </tr>\n",
       "    <tr>\n",
       "      <th>3</th>\n",
       "      <td>332872984</td>\n",
       "      <td>1</td>\n",
       "      <td>30</td>\n",
       "      <td></td>\n",
       "      <td></td>\n",
       "      <td>C70,C60,C69,C73,C72,C64,C65,C74,Y10,M01,Z02,S0...</td>\n",
       "      <td>1</td>\n",
       "    </tr>\n",
       "    <tr>\n",
       "      <th>4</th>\n",
       "      <td>332873008</td>\n",
       "      <td>1</td>\n",
       "      <td></td>\n",
       "      <td>KR</td>\n",
       "      <td></td>\n",
       "      <td>C70,C60,C69,C72,C62,C63,C74,Y10,M01,Z02,S03,V0...</td>\n",
       "      <td>1</td>\n",
       "    </tr>\n",
       "    <tr>\n",
       "      <th>5</th>\n",
       "      <td>332873440</td>\n",
       "      <td>1</td>\n",
       "      <td></td>\n",
       "      <td>OT</td>\n",
       "      <td>OR</td>\n",
       "      <td>C70,C60,C69,C72,C62,C63,C74,Y10,Y15,M01,Z02,S0...</td>\n",
       "      <td>1</td>\n",
       "    </tr>\n",
       "    <tr>\n",
       "      <th>6</th>\n",
       "      <td>332873473</td>\n",
       "      <td>1</td>\n",
       "      <td></td>\n",
       "      <td></td>\n",
       "      <td></td>\n",
       "      <td>C70,C60,C72,C62,C63,C74,Y10,M01,Z02,S03,V01,U0...</td>\n",
       "      <td>1</td>\n",
       "    </tr>\n",
       "    <tr>\n",
       "      <th>7</th>\n",
       "      <td>332873593</td>\n",
       "      <td>1</td>\n",
       "      <td></td>\n",
       "      <td>OT</td>\n",
       "      <td>OR</td>\n",
       "      <td>C70,C60,C69,C72,C64,C65,C74,Y15,M01,Z02,S03,V0...</td>\n",
       "      <td>1</td>\n",
       "    </tr>\n",
       "    <tr>\n",
       "      <th>8</th>\n",
       "      <td>332873602</td>\n",
       "      <td>1</td>\n",
       "      <td></td>\n",
       "      <td></td>\n",
       "      <td></td>\n",
       "      <td>C70,C60,C72,C62,C63,C74,Y10,M01,Z02,S03,V01,U0...</td>\n",
       "      <td>1</td>\n",
       "    </tr>\n",
       "    <tr>\n",
       "      <th>9</th>\n",
       "      <td>332873635</td>\n",
       "      <td>4</td>\n",
       "      <td>30</td>\n",
       "      <td></td>\n",
       "      <td></td>\n",
       "      <td>C70,C60,C69,C73,C72,C62,C63,C74,Y10,M01,Z02,S0...</td>\n",
       "      <td>1</td>\n",
       "    </tr>\n",
       "  </tbody>\n",
       "</table>\n",
       "</div>"
      ],
      "text/plain": [
       "   ClientNumber  DecisionNumber IncomeTypes OtherBenefitTypes  \\\n",
       "0     332871451               1                            OT   \n",
       "1     332871574               1                            TM   \n",
       "2     332871613               1                            WH   \n",
       "3     332872984               1          30                     \n",
       "4     332873008               1                            KR   \n",
       "5     332873440               1                            OT   \n",
       "6     332873473               1                                 \n",
       "7     332873593               1                            OT   \n",
       "8     332873602               1                                 \n",
       "9     332873635               4          30                     \n",
       "\n",
       "  OtherBenefitSubTypes                                        PhraseCodes  \\\n",
       "0                   OR  C70,C60,C69,C72,C64,C65,C74,Y10,M02,Z01,S03,D1...   \n",
       "1                       C70,C60,C69,C72,C64,C65,C74,Y10,Y15,M01,Z02,S0...   \n",
       "2                HH,HL  C70,C60,C69,C72,C64,C65,C74,Y10,Y15,M01,Z02,S0...   \n",
       "3                       C70,C60,C69,C73,C72,C64,C65,C74,Y10,M01,Z02,S0...   \n",
       "4                       C70,C60,C69,C72,C62,C63,C74,Y10,M01,Z02,S03,V0...   \n",
       "5                   OR  C70,C60,C69,C72,C62,C63,C74,Y10,Y15,M01,Z02,S0...   \n",
       "6                       C70,C60,C72,C62,C63,C74,Y10,M01,Z02,S03,V01,U0...   \n",
       "7                   OR  C70,C60,C69,C72,C64,C65,C74,Y15,M01,Z02,S03,V0...   \n",
       "8                       C70,C60,C72,C62,C63,C74,Y10,M01,Z02,S03,V01,U0...   \n",
       "9                       C70,C60,C69,C73,C72,C62,C63,C74,Y10,M01,Z02,S0...   \n",
       "\n",
       "   NumberOfHouseholdMembers  \n",
       "0                         1  \n",
       "1                         1  \n",
       "2                         2  \n",
       "3                         1  \n",
       "4                         1  \n",
       "5                         1  \n",
       "6                         1  \n",
       "7                         1  \n",
       "8                         1  \n",
       "9                         1  "
      ]
     },
     "execution_count": 103,
     "metadata": {},
     "output_type": "execute_result"
    }
   ],
   "source": [
    "\n",
    "body = client_fb77205e2d164977b331a46f3ff3b2e9.get_object(Bucket='advanceddatascience-donotdelete-pr-ffioxbyq1okbiu',Key='df_first_approve_all_grouped3.csv')['Body']\n",
    "# add missing __iter__ method, so pandas accepts body as file-like object\n",
    "if not hasattr(body, \"__iter__\"): body.__iter__ = types.MethodType( __iter__, body )\n",
    "\n",
    "df_first_approve_all_grouped2 = pd.read_csv(body, sep=';', skiprows=[0], \n",
    "                         names=['ClientNumber','DecisionNumber','IncomeTypes','OtherBenefitTypes','OtherBenefitSubTypes','PhraseCodes','NumberOfHouseholdMembers'], \n",
    "                         header=None, low_memory=False, encoding='utf-8')\n",
    "df_first_approve_all_grouped2 = df_first_approve_all_grouped2.fillna('')\n",
    "df_first_approve_all_grouped2.reset_index(inplace=True)\n",
    "df_first_approve_all_grouped2 = df_first_approve_all_grouped2.drop(columns={'index'})\n",
    "df_first_approve_all_grouped2.head(10)\n"
   ]
  },
  {
   "cell_type": "markdown",
   "metadata": {},
   "source": [
    "Next, let us study the frequencies"
   ]
  },
  {
   "cell_type": "code",
   "execution_count": 104,
   "metadata": {},
   "outputs": [
    {
     "data": {
      "text/html": [
       "<div>\n",
       "<style scoped>\n",
       "    .dataframe tbody tr th:only-of-type {\n",
       "        vertical-align: middle;\n",
       "    }\n",
       "\n",
       "    .dataframe tbody tr th {\n",
       "        vertical-align: top;\n",
       "    }\n",
       "\n",
       "    .dataframe thead th {\n",
       "        text-align: right;\n",
       "    }\n",
       "</style>\n",
       "<table border=\"1\" class=\"dataframe\">\n",
       "  <thead>\n",
       "    <tr style=\"text-align: right;\">\n",
       "      <th></th>\n",
       "      <th>PhraseCodes</th>\n",
       "      <th>Frequency</th>\n",
       "    </tr>\n",
       "  </thead>\n",
       "  <tbody>\n",
       "    <tr>\n",
       "      <th>0</th>\n",
       "      <td>C70,C60,C69,C72,C64,C65,C74,Y10,M01,Z02,S03,V0...</td>\n",
       "      <td>5710</td>\n",
       "    </tr>\n",
       "    <tr>\n",
       "      <th>1</th>\n",
       "      <td>C70,C60,C69,C72,C64,C65,C74,M01,Z02,S03,V01,U0...</td>\n",
       "      <td>2411</td>\n",
       "    </tr>\n",
       "    <tr>\n",
       "      <th>2</th>\n",
       "      <td>C70,C60,C69,C72,C62,C63,C74,Y10,M01,Z02,S03,V0...</td>\n",
       "      <td>2014</td>\n",
       "    </tr>\n",
       "    <tr>\n",
       "      <th>3</th>\n",
       "      <td>C70,C60,C69,C72,C64,C65,C74,Y10,Y15,M01,Z02,S0...</td>\n",
       "      <td>1715</td>\n",
       "    </tr>\n",
       "    <tr>\n",
       "      <th>4</th>\n",
       "      <td>C70,C60,C69,C78,C72,C64,C65,C74,Y10,M01,Z02,S0...</td>\n",
       "      <td>1044</td>\n",
       "    </tr>\n",
       "    <tr>\n",
       "      <th>5</th>\n",
       "      <td>C70,C60,C69,C73,C72,C64,C65,C74,Y10,M01,Z02,S0...</td>\n",
       "      <td>1029</td>\n",
       "    </tr>\n",
       "    <tr>\n",
       "      <th>6</th>\n",
       "      <td>C70,C60,C69,C72,C62,C63,C74,M01,Z02,S03,V01,U0...</td>\n",
       "      <td>932</td>\n",
       "    </tr>\n",
       "    <tr>\n",
       "      <th>7</th>\n",
       "      <td>C70,C60,C69,C72,C62,C63,C74,Y10,M01,Z02,S03,V0...</td>\n",
       "      <td>931</td>\n",
       "    </tr>\n",
       "    <tr>\n",
       "      <th>8</th>\n",
       "      <td>C70,C60,C69,C78,C76,C72,C64,C65,C74,Y10,M01,Z0...</td>\n",
       "      <td>821</td>\n",
       "    </tr>\n",
       "    <tr>\n",
       "      <th>9</th>\n",
       "      <td>C70,C60,C69,C72,C64,C65,C74,Y15,M01,Z02,S03,V0...</td>\n",
       "      <td>746</td>\n",
       "    </tr>\n",
       "  </tbody>\n",
       "</table>\n",
       "</div>"
      ],
      "text/plain": [
       "                                         PhraseCodes  Frequency\n",
       "0  C70,C60,C69,C72,C64,C65,C74,Y10,M01,Z02,S03,V0...       5710\n",
       "1  C70,C60,C69,C72,C64,C65,C74,M01,Z02,S03,V01,U0...       2411\n",
       "2  C70,C60,C69,C72,C62,C63,C74,Y10,M01,Z02,S03,V0...       2014\n",
       "3  C70,C60,C69,C72,C64,C65,C74,Y10,Y15,M01,Z02,S0...       1715\n",
       "4  C70,C60,C69,C78,C72,C64,C65,C74,Y10,M01,Z02,S0...       1044\n",
       "5  C70,C60,C69,C73,C72,C64,C65,C74,Y10,M01,Z02,S0...       1029\n",
       "6  C70,C60,C69,C72,C62,C63,C74,M01,Z02,S03,V01,U0...        932\n",
       "7  C70,C60,C69,C72,C62,C63,C74,Y10,M01,Z02,S03,V0...        931\n",
       "8  C70,C60,C69,C78,C76,C72,C64,C65,C74,Y10,M01,Z0...        821\n",
       "9  C70,C60,C69,C72,C64,C65,C74,Y15,M01,Z02,S03,V0...        746"
      ]
     },
     "execution_count": 104,
     "metadata": {},
     "output_type": "execute_result"
    }
   ],
   "source": [
    "df_phrasecomb_frequencies5 = pd.DataFrame(df_first_approve_all_grouped2['PhraseCodes'].value_counts()).reset_index()\n",
    "df_phrasecomb_frequencies5.rename(index=str, columns={'index':'PhraseCodes','PhraseCodes':'Frequency'}, inplace=True)\n",
    "df_phrasecomb_frequencies5.head(10)"
   ]
  },
  {
   "cell_type": "code",
   "execution_count": 6,
   "metadata": {},
   "outputs": [
    {
     "data": {
      "text/plain": [
       "(65947, 7)"
      ]
     },
     "execution_count": 6,
     "metadata": {},
     "output_type": "execute_result"
    }
   ],
   "source": [
    "df_first_approve_all_grouped2.shape"
   ]
  },
  {
   "cell_type": "code",
   "execution_count": 7,
   "metadata": {},
   "outputs": [
    {
     "data": {
      "text/plain": [
       "(12420, 2)"
      ]
     },
     "execution_count": 7,
     "metadata": {},
     "output_type": "execute_result"
    }
   ],
   "source": [
    "df_phrasecomb_frequencies5.shape"
   ]
  },
  {
   "cell_type": "code",
   "execution_count": 8,
   "metadata": {},
   "outputs": [
    {
     "data": {
      "text/plain": [
       "146"
      ]
     },
     "execution_count": 8,
     "metadata": {},
     "output_type": "execute_result"
    }
   ],
   "source": [
    "df_phrasecomb_frequencies5[df_phrasecomb_frequencies5['Frequency'] > 49].shape[0]"
   ]
  },
  {
   "cell_type": "markdown",
   "metadata": {},
   "source": [
    "Let us see the bar chart of frequency distribution."
   ]
  },
  {
   "cell_type": "code",
   "execution_count": 105,
   "metadata": {},
   "outputs": [
    {
     "data": {
      "text/plain": [
       "Text(0.5,1,'Decisions by content in data set')"
      ]
     },
     "execution_count": 105,
     "metadata": {},
     "output_type": "execute_result"
    },
    {
     "data": {
      "image/png": "[encoded data removed]",
      "text/plain": [
       "<matplotlib.figure.Figure at 0x7f87de8a9e10>"
      ]
     },
     "metadata": {},
     "output_type": "display_data"
    }
   ],
   "source": [
    "# Bar chart of first n_items categories\n",
    "import matplotlib.pyplot as plt\n",
    "import numpy as np\n",
    "%matplotlib inline\n",
    "\n",
    "n_items = 146\n",
    "y_pos = np.arange(n_items)\n",
    "values = df_phrasecomb_frequencies5['Frequency'][0:n_items]\n",
    "plt.figure(figsize=(10,10))\n",
    "plt.bar(y_pos, values, align='center', alpha=0.5)\n",
    "plt.ylabel('# of decisions with this content')\n",
    "plt.title('Decisions by content in data set')"
   ]
  },
  {
   "cell_type": "code",
   "execution_count": 10,
   "metadata": {},
   "outputs": [
    {
     "data": {
      "text/plain": [
       "37215"
      ]
     },
     "execution_count": 10,
     "metadata": {},
     "output_type": "execute_result"
    }
   ],
   "source": [
    "# Number of cases with \"common phrase combination\", that is, more than 50 cases\n",
    "df_phrasecomb_frequencies5[df_phrasecomb_frequencies5['Frequency'] >= 50]['Frequency'].sum()"
   ]
  },
  {
   "cell_type": "markdown",
   "metadata": {},
   "source": [
    "Let us now define the label for our modeling work. The index of the phrase combination in the list of most common phrase combinations will be used as the label. We will label the case with the index if the the phrases are the same as in the more common categories, meaning with 50+ examples in the data, and N_CATEGORIES otherwise."
   ]
  },
  {
   "cell_type": "code",
   "execution_count": 11,
   "metadata": {},
   "outputs": [
    {
     "data": {
      "text/html": [
       "<div>\n",
       "<style scoped>\n",
       "    .dataframe tbody tr th:only-of-type {\n",
       "        vertical-align: middle;\n",
       "    }\n",
       "\n",
       "    .dataframe tbody tr th {\n",
       "        vertical-align: top;\n",
       "    }\n",
       "\n",
       "    .dataframe thead th {\n",
       "        text-align: right;\n",
       "    }\n",
       "</style>\n",
       "<table border=\"1\" class=\"dataframe\">\n",
       "  <thead>\n",
       "    <tr style=\"text-align: right;\">\n",
       "      <th></th>\n",
       "      <th>CategoryLabel</th>\n",
       "    </tr>\n",
       "  </thead>\n",
       "  <tbody>\n",
       "    <tr>\n",
       "      <th>0</th>\n",
       "      <td>147</td>\n",
       "    </tr>\n",
       "    <tr>\n",
       "      <th>1</th>\n",
       "      <td>147</td>\n",
       "    </tr>\n",
       "    <tr>\n",
       "      <th>2</th>\n",
       "      <td>147</td>\n",
       "    </tr>\n",
       "    <tr>\n",
       "      <th>3</th>\n",
       "      <td>107</td>\n",
       "    </tr>\n",
       "    <tr>\n",
       "      <th>4</th>\n",
       "      <td>2</td>\n",
       "    </tr>\n",
       "    <tr>\n",
       "      <th>5</th>\n",
       "      <td>147</td>\n",
       "    </tr>\n",
       "    <tr>\n",
       "      <th>6</th>\n",
       "      <td>39</td>\n",
       "    </tr>\n",
       "    <tr>\n",
       "      <th>7</th>\n",
       "      <td>9</td>\n",
       "    </tr>\n",
       "    <tr>\n",
       "      <th>8</th>\n",
       "      <td>147</td>\n",
       "    </tr>\n",
       "    <tr>\n",
       "      <th>9</th>\n",
       "      <td>45</td>\n",
       "    </tr>\n",
       "  </tbody>\n",
       "</table>\n",
       "</div>"
      ],
      "text/plain": [
       "   CategoryLabel\n",
       "0            147\n",
       "1            147\n",
       "2            147\n",
       "3            107\n",
       "4              2\n",
       "5            147\n",
       "6             39\n",
       "7              9\n",
       "8            147\n",
       "9             45"
      ]
     },
     "execution_count": 11,
     "metadata": {},
     "output_type": "execute_result"
    }
   ],
   "source": [
    "# This function gives a value of -1, if not in N_CATEGORIES most common phrase code combinations\n",
    "# If the list of phraseCodes equals one of the N_CATEGORIES most common phrase code combinations, \n",
    "# the index of that combination is list of most common phrase code combinations is returned\n",
    "N_CATEGORIES = df_phrasecomb_frequencies5[df_phrasecomb_frequencies5['Frequency'] >= 50].shape[0] +1;\n",
    "def findCategoryLabel(maxCategories, phraseCodes):\n",
    "    categoryLabel = N_CATEGORIES;\n",
    "    for i in range(maxCategories):\n",
    "            if(phraseCodes == df_phrasecomb_frequencies5['PhraseCodes'][i]):\n",
    "                return i\n",
    "    return categoryLabel;\n",
    "df_label = pd.DataFrame()\n",
    "df_label['CategoryLabel'] = df_first_approve_all_grouped2.apply(lambda row: findCategoryLabel(N_CATEGORIES, row['PhraseCodes']), axis=1)\n",
    "df_label.head(10)"
   ]
  },
  {
   "cell_type": "code",
   "execution_count": 12,
   "metadata": {
    "scrolled": true
   },
   "outputs": [
    {
     "data": {
      "text/plain": [
       "(65947, 1)"
      ]
     },
     "execution_count": 12,
     "metadata": {},
     "output_type": "execute_result"
    }
   ],
   "source": [
    "df_label.shape"
   ]
  },
  {
   "cell_type": "code",
   "execution_count": 13,
   "metadata": {},
   "outputs": [
    {
     "data": {
      "text/html": [
       "<div>\n",
       "<style scoped>\n",
       "    .dataframe tbody tr th:only-of-type {\n",
       "        vertical-align: middle;\n",
       "    }\n",
       "\n",
       "    .dataframe tbody tr th {\n",
       "        vertical-align: top;\n",
       "    }\n",
       "\n",
       "    .dataframe thead th {\n",
       "        text-align: right;\n",
       "    }\n",
       "</style>\n",
       "<table border=\"1\" class=\"dataframe\">\n",
       "  <thead>\n",
       "    <tr style=\"text-align: right;\">\n",
       "      <th></th>\n",
       "      <th>IncomeTypes</th>\n",
       "      <th>OtherBenefitTypes</th>\n",
       "      <th>OtherBenefitSubTypes</th>\n",
       "      <th>NumberOfHouseholdMembers</th>\n",
       "    </tr>\n",
       "  </thead>\n",
       "  <tbody>\n",
       "    <tr>\n",
       "      <th>0</th>\n",
       "      <td></td>\n",
       "      <td>OT</td>\n",
       "      <td>OR</td>\n",
       "      <td>1</td>\n",
       "    </tr>\n",
       "    <tr>\n",
       "      <th>1</th>\n",
       "      <td></td>\n",
       "      <td>TM</td>\n",
       "      <td></td>\n",
       "      <td>1</td>\n",
       "    </tr>\n",
       "    <tr>\n",
       "      <th>2</th>\n",
       "      <td></td>\n",
       "      <td>WH</td>\n",
       "      <td>HH,HL</td>\n",
       "      <td>2</td>\n",
       "    </tr>\n",
       "    <tr>\n",
       "      <th>3</th>\n",
       "      <td>30</td>\n",
       "      <td></td>\n",
       "      <td></td>\n",
       "      <td>1</td>\n",
       "    </tr>\n",
       "    <tr>\n",
       "      <th>4</th>\n",
       "      <td></td>\n",
       "      <td>KR</td>\n",
       "      <td></td>\n",
       "      <td>1</td>\n",
       "    </tr>\n",
       "    <tr>\n",
       "      <th>5</th>\n",
       "      <td></td>\n",
       "      <td>OT</td>\n",
       "      <td>OR</td>\n",
       "      <td>1</td>\n",
       "    </tr>\n",
       "    <tr>\n",
       "      <th>6</th>\n",
       "      <td></td>\n",
       "      <td></td>\n",
       "      <td></td>\n",
       "      <td>1</td>\n",
       "    </tr>\n",
       "    <tr>\n",
       "      <th>7</th>\n",
       "      <td></td>\n",
       "      <td>OT</td>\n",
       "      <td>OR</td>\n",
       "      <td>1</td>\n",
       "    </tr>\n",
       "    <tr>\n",
       "      <th>8</th>\n",
       "      <td></td>\n",
       "      <td></td>\n",
       "      <td></td>\n",
       "      <td>1</td>\n",
       "    </tr>\n",
       "    <tr>\n",
       "      <th>9</th>\n",
       "      <td>30</td>\n",
       "      <td></td>\n",
       "      <td></td>\n",
       "      <td>1</td>\n",
       "    </tr>\n",
       "  </tbody>\n",
       "</table>\n",
       "</div>"
      ],
      "text/plain": [
       "  IncomeTypes OtherBenefitTypes OtherBenefitSubTypes  NumberOfHouseholdMembers\n",
       "0                            OT                   OR                         1\n",
       "1                            TM                                              1\n",
       "2                            WH                HH,HL                         2\n",
       "3          30                                                                1\n",
       "4                            KR                                              1\n",
       "5                            OT                   OR                         1\n",
       "6                                                                            1\n",
       "7                            OT                   OR                         1\n",
       "8                                                                            1\n",
       "9          30                                                                1"
      ]
     },
     "execution_count": 13,
     "metadata": {},
     "output_type": "execute_result"
    }
   ],
   "source": [
    "df_data = df_first_approve_all_grouped2.copy();\n",
    "df_data.drop(columns={'PhraseCodes','ClientNumber','DecisionNumber'}, inplace=True)\n",
    "df_data.head(10)"
   ]
  },
  {
   "cell_type": "code",
   "execution_count": 14,
   "metadata": {},
   "outputs": [
    {
     "data": {
      "text/plain": [
       "(65947, 4)"
      ]
     },
     "execution_count": 14,
     "metadata": {},
     "output_type": "execute_result"
    }
   ],
   "source": [
    "df_data.shape"
   ]
  },
  {
   "cell_type": "markdown",
   "metadata": {},
   "source": [
    "Now we have our data and labels ready - at least for the first iteration - and can begin the actual modeling work"
   ]
  },
  {
   "cell_type": "markdown",
   "metadata": {},
   "source": [
    "# Interim result 3\n",
    "We now have a dataset which we think we might be able to categorize. In contains 65947 housing benefit decisions, falling into 12420 categories. We will try to create a machine learning model to identify whether the application received belongs to one of the 146 more popular decision types - that is, with more than 50 examples in our data set.\n",
    "\n",
    "Businesswise, this set contains 37215/65947 = some 56% of \"new\" housing benefit applications. This a viable goal - remember, processing a single application takes around 10 minutes. "
   ]
  },
  {
   "cell_type": "markdown",
   "metadata": {},
   "source": [
    "## Some further preparation for the data set\n",
    "One-hot encoding would produce a lot of features (1317, to be exact) I will do a little bit different encoding, which nevertheless will contain all needed information. The data in categories \"IncomeTypes\", \"OtherBenefitTypes\", \"OtherBenefitSubTypes\" can be a list of codes such as \"OR,PO\" or \"HH,HL\" or \"HL,WL\". If we do plain one-hot encoding for these characters, we would end up with columns like \"otherBenefitTypes_OR,PO\", \"otherBenefitTypes_HH,HL\" and \"otherBenefitTypes_HL,WL\" and so on. I want to do a coding which would produce columns like \"otherBenefitType_OR\", \"otherBenefitType_PO\",\"otherBenefitType_HH\", \"otherBenefitType_HL\", \"otherBenefitType_WL\" and so on. So, each code will be categorized only once, not the ordered combination of the codes. Order other benefits (for example) is not important for this modeling task, but information about otherbenefit (whether it is received or not) is important.\n",
    "\n",
    "First, we'll need to codes from the full data set, which we have stored in separate data sets."
   ]
  },
  {
   "cell_type": "code",
   "execution_count": 76,
   "metadata": {},
   "outputs": [],
   "source": [
    "# Read in the income type / benefit type / benefit subtype values to DataFrames and lists (we need these for one-hot encoding)\n",
    "body1 = client_fb77205e2d164977b331a46f3ff3b2e9.get_object(Bucket='advanceddatascience-donotdelete-pr-ffioxbyq1okbiu',Key='new_applications_benefitTypes.csv')['Body']\n",
    "if not hasattr(body1, \"__iter__\"): body1.__iter__ = types.MethodType( __iter__, body1 )\n",
    "df_otherBenefitTypes = pd.read_csv(body1, names=['OtherBenefitType'], skiprows=[0], header=None, encoding='utf-8')\n",
    "otherBenefitTypeValues = df_otherBenefitTypes['OtherBenefitType'].unique()\n",
    "\n",
    "body2 = client_fb77205e2d164977b331a46f3ff3b2e9.get_object(Bucket='advanceddatascience-donotdelete-pr-ffioxbyq1okbiu',Key='new_application_benefitSubTypes.csv')['Body']\n",
    "if not hasattr(body2, \"__iter__\"): body2.__iter__ = types.MethodType( __iter__, body2 )\n",
    "df_otherBenefitSubTypes = pd.read_csv(body2, names=['OtherBenefitSubType'], skiprows=[0], header=None, encoding='utf-8')\n",
    "otherBenefitSubTypeValues = df_otherBenefitSubTypes['OtherBenefitSubType'].unique()\n",
    "\n",
    "body3 = client_fb77205e2d164977b331a46f3ff3b2e9.get_object(Bucket='advanceddatascience-donotdelete-pr-ffioxbyq1okbiu',Key='new_application_incomeTypes.csv')['Body']\n",
    "if not hasattr(body3, \"__iter__\"): body3.__iter__ = types.MethodType( __iter__, body3 )\n",
    "df_incomeTypes = pd.read_csv(body3, names=['IncomeType'], dtype={'IncomeType':'object'}, skiprows=[0], header=None, encoding='utf-8')\n",
    "incomeTypeValues = df_incomeTypes['IncomeType'].unique()"
   ]
  },
  {
   "cell_type": "code",
   "execution_count": 77,
   "metadata": {},
   "outputs": [
    {
     "data": {
      "text/html": [
       "<div>\n",
       "<style scoped>\n",
       "    .dataframe tbody tr th:only-of-type {\n",
       "        vertical-align: middle;\n",
       "    }\n",
       "\n",
       "    .dataframe tbody tr th {\n",
       "        vertical-align: top;\n",
       "    }\n",
       "\n",
       "    .dataframe thead th {\n",
       "        text-align: right;\n",
       "    }\n",
       "</style>\n",
       "<table border=\"1\" class=\"dataframe\">\n",
       "  <thead>\n",
       "    <tr style=\"text-align: right;\">\n",
       "      <th></th>\n",
       "      <th>incomeType_30</th>\n",
       "      <th>incomeType_01</th>\n",
       "      <th>incomeType_05</th>\n",
       "      <th>incomeType_02</th>\n",
       "      <th>incomeType_04</th>\n",
       "      <th>incomeType_03</th>\n",
       "      <th>incomeType_23</th>\n",
       "      <th>otherSubBenefit_PM</th>\n",
       "      <th>otherSubBenefit_PO</th>\n",
       "      <th>otherSubBenefit_AL</th>\n",
       "      <th>...</th>\n",
       "      <th>otherBenefit_TR</th>\n",
       "      <th>otherBenefit_KU/O</th>\n",
       "      <th>otherBenefit_KU/T</th>\n",
       "      <th>otherBenefit_TT</th>\n",
       "      <th>otherBenefit_KURO</th>\n",
       "      <th>otherBenefit_YV/T</th>\n",
       "      <th>otherBenefit_TK-K</th>\n",
       "      <th>otherBenefit_DER</th>\n",
       "      <th>otherBenefit_LUKO</th>\n",
       "      <th>otherBenefit_KURE</th>\n",
       "    </tr>\n",
       "  </thead>\n",
       "  <tbody>\n",
       "    <tr>\n",
       "      <th>0</th>\n",
       "      <td>0</td>\n",
       "      <td>0</td>\n",
       "      <td>0</td>\n",
       "      <td>0</td>\n",
       "      <td>0</td>\n",
       "      <td>0</td>\n",
       "      <td>0</td>\n",
       "      <td>0</td>\n",
       "      <td>0</td>\n",
       "      <td>0</td>\n",
       "      <td>...</td>\n",
       "      <td>0</td>\n",
       "      <td>0</td>\n",
       "      <td>0</td>\n",
       "      <td>0</td>\n",
       "      <td>0</td>\n",
       "      <td>0</td>\n",
       "      <td>0</td>\n",
       "      <td>0</td>\n",
       "      <td>0</td>\n",
       "      <td>0</td>\n",
       "    </tr>\n",
       "    <tr>\n",
       "      <th>1</th>\n",
       "      <td>0</td>\n",
       "      <td>0</td>\n",
       "      <td>0</td>\n",
       "      <td>0</td>\n",
       "      <td>0</td>\n",
       "      <td>0</td>\n",
       "      <td>0</td>\n",
       "      <td>0</td>\n",
       "      <td>0</td>\n",
       "      <td>0</td>\n",
       "      <td>...</td>\n",
       "      <td>0</td>\n",
       "      <td>0</td>\n",
       "      <td>0</td>\n",
       "      <td>0</td>\n",
       "      <td>0</td>\n",
       "      <td>0</td>\n",
       "      <td>0</td>\n",
       "      <td>0</td>\n",
       "      <td>0</td>\n",
       "      <td>0</td>\n",
       "    </tr>\n",
       "    <tr>\n",
       "      <th>2</th>\n",
       "      <td>0</td>\n",
       "      <td>0</td>\n",
       "      <td>0</td>\n",
       "      <td>0</td>\n",
       "      <td>0</td>\n",
       "      <td>0</td>\n",
       "      <td>0</td>\n",
       "      <td>0</td>\n",
       "      <td>0</td>\n",
       "      <td>0</td>\n",
       "      <td>...</td>\n",
       "      <td>0</td>\n",
       "      <td>0</td>\n",
       "      <td>0</td>\n",
       "      <td>0</td>\n",
       "      <td>0</td>\n",
       "      <td>0</td>\n",
       "      <td>0</td>\n",
       "      <td>0</td>\n",
       "      <td>0</td>\n",
       "      <td>0</td>\n",
       "    </tr>\n",
       "    <tr>\n",
       "      <th>3</th>\n",
       "      <td>1</td>\n",
       "      <td>0</td>\n",
       "      <td>0</td>\n",
       "      <td>0</td>\n",
       "      <td>0</td>\n",
       "      <td>0</td>\n",
       "      <td>0</td>\n",
       "      <td>0</td>\n",
       "      <td>0</td>\n",
       "      <td>0</td>\n",
       "      <td>...</td>\n",
       "      <td>0</td>\n",
       "      <td>0</td>\n",
       "      <td>0</td>\n",
       "      <td>0</td>\n",
       "      <td>0</td>\n",
       "      <td>0</td>\n",
       "      <td>0</td>\n",
       "      <td>0</td>\n",
       "      <td>0</td>\n",
       "      <td>0</td>\n",
       "    </tr>\n",
       "    <tr>\n",
       "      <th>4</th>\n",
       "      <td>0</td>\n",
       "      <td>0</td>\n",
       "      <td>0</td>\n",
       "      <td>0</td>\n",
       "      <td>0</td>\n",
       "      <td>0</td>\n",
       "      <td>0</td>\n",
       "      <td>0</td>\n",
       "      <td>0</td>\n",
       "      <td>0</td>\n",
       "      <td>...</td>\n",
       "      <td>0</td>\n",
       "      <td>0</td>\n",
       "      <td>0</td>\n",
       "      <td>0</td>\n",
       "      <td>0</td>\n",
       "      <td>0</td>\n",
       "      <td>0</td>\n",
       "      <td>0</td>\n",
       "      <td>0</td>\n",
       "      <td>0</td>\n",
       "    </tr>\n",
       "    <tr>\n",
       "      <th>5</th>\n",
       "      <td>0</td>\n",
       "      <td>0</td>\n",
       "      <td>0</td>\n",
       "      <td>0</td>\n",
       "      <td>0</td>\n",
       "      <td>0</td>\n",
       "      <td>0</td>\n",
       "      <td>0</td>\n",
       "      <td>0</td>\n",
       "      <td>0</td>\n",
       "      <td>...</td>\n",
       "      <td>0</td>\n",
       "      <td>0</td>\n",
       "      <td>0</td>\n",
       "      <td>0</td>\n",
       "      <td>0</td>\n",
       "      <td>0</td>\n",
       "      <td>0</td>\n",
       "      <td>0</td>\n",
       "      <td>0</td>\n",
       "      <td>0</td>\n",
       "    </tr>\n",
       "    <tr>\n",
       "      <th>6</th>\n",
       "      <td>0</td>\n",
       "      <td>0</td>\n",
       "      <td>0</td>\n",
       "      <td>0</td>\n",
       "      <td>0</td>\n",
       "      <td>0</td>\n",
       "      <td>0</td>\n",
       "      <td>0</td>\n",
       "      <td>0</td>\n",
       "      <td>0</td>\n",
       "      <td>...</td>\n",
       "      <td>0</td>\n",
       "      <td>0</td>\n",
       "      <td>0</td>\n",
       "      <td>0</td>\n",
       "      <td>0</td>\n",
       "      <td>0</td>\n",
       "      <td>0</td>\n",
       "      <td>0</td>\n",
       "      <td>0</td>\n",
       "      <td>0</td>\n",
       "    </tr>\n",
       "    <tr>\n",
       "      <th>7</th>\n",
       "      <td>0</td>\n",
       "      <td>0</td>\n",
       "      <td>0</td>\n",
       "      <td>0</td>\n",
       "      <td>0</td>\n",
       "      <td>0</td>\n",
       "      <td>0</td>\n",
       "      <td>0</td>\n",
       "      <td>0</td>\n",
       "      <td>0</td>\n",
       "      <td>...</td>\n",
       "      <td>0</td>\n",
       "      <td>0</td>\n",
       "      <td>0</td>\n",
       "      <td>0</td>\n",
       "      <td>0</td>\n",
       "      <td>0</td>\n",
       "      <td>0</td>\n",
       "      <td>0</td>\n",
       "      <td>0</td>\n",
       "      <td>0</td>\n",
       "    </tr>\n",
       "    <tr>\n",
       "      <th>8</th>\n",
       "      <td>0</td>\n",
       "      <td>0</td>\n",
       "      <td>0</td>\n",
       "      <td>0</td>\n",
       "      <td>0</td>\n",
       "      <td>0</td>\n",
       "      <td>0</td>\n",
       "      <td>0</td>\n",
       "      <td>0</td>\n",
       "      <td>0</td>\n",
       "      <td>...</td>\n",
       "      <td>0</td>\n",
       "      <td>0</td>\n",
       "      <td>0</td>\n",
       "      <td>0</td>\n",
       "      <td>0</td>\n",
       "      <td>0</td>\n",
       "      <td>0</td>\n",
       "      <td>0</td>\n",
       "      <td>0</td>\n",
       "      <td>0</td>\n",
       "    </tr>\n",
       "    <tr>\n",
       "      <th>9</th>\n",
       "      <td>1</td>\n",
       "      <td>0</td>\n",
       "      <td>0</td>\n",
       "      <td>0</td>\n",
       "      <td>0</td>\n",
       "      <td>0</td>\n",
       "      <td>0</td>\n",
       "      <td>0</td>\n",
       "      <td>0</td>\n",
       "      <td>0</td>\n",
       "      <td>...</td>\n",
       "      <td>0</td>\n",
       "      <td>0</td>\n",
       "      <td>0</td>\n",
       "      <td>0</td>\n",
       "      <td>0</td>\n",
       "      <td>0</td>\n",
       "      <td>0</td>\n",
       "      <td>0</td>\n",
       "      <td>0</td>\n",
       "      <td>0</td>\n",
       "    </tr>\n",
       "  </tbody>\n",
       "</table>\n",
       "<p>10 rows × 107 columns</p>\n",
       "</div>"
      ],
      "text/plain": [
       "   incomeType_30  incomeType_01  incomeType_05  incomeType_02  incomeType_04  \\\n",
       "0              0              0              0              0              0   \n",
       "1              0              0              0              0              0   \n",
       "2              0              0              0              0              0   \n",
       "3              1              0              0              0              0   \n",
       "4              0              0              0              0              0   \n",
       "5              0              0              0              0              0   \n",
       "6              0              0              0              0              0   \n",
       "7              0              0              0              0              0   \n",
       "8              0              0              0              0              0   \n",
       "9              1              0              0              0              0   \n",
       "\n",
       "   incomeType_03  incomeType_23  otherSubBenefit_PM  otherSubBenefit_PO  \\\n",
       "0              0              0                   0                   0   \n",
       "1              0              0                   0                   0   \n",
       "2              0              0                   0                   0   \n",
       "3              0              0                   0                   0   \n",
       "4              0              0                   0                   0   \n",
       "5              0              0                   0                   0   \n",
       "6              0              0                   0                   0   \n",
       "7              0              0                   0                   0   \n",
       "8              0              0                   0                   0   \n",
       "9              0              0                   0                   0   \n",
       "\n",
       "   otherSubBenefit_AL        ...          otherBenefit_TR  otherBenefit_KU/O  \\\n",
       "0                   0        ...                        0                  0   \n",
       "1                   0        ...                        0                  0   \n",
       "2                   0        ...                        0                  0   \n",
       "3                   0        ...                        0                  0   \n",
       "4                   0        ...                        0                  0   \n",
       "5                   0        ...                        0                  0   \n",
       "6                   0        ...                        0                  0   \n",
       "7                   0        ...                        0                  0   \n",
       "8                   0        ...                        0                  0   \n",
       "9                   0        ...                        0                  0   \n",
       "\n",
       "   otherBenefit_KU/T  otherBenefit_TT  otherBenefit_KURO  otherBenefit_YV/T  \\\n",
       "0                  0                0                  0                  0   \n",
       "1                  0                0                  0                  0   \n",
       "2                  0                0                  0                  0   \n",
       "3                  0                0                  0                  0   \n",
       "4                  0                0                  0                  0   \n",
       "5                  0                0                  0                  0   \n",
       "6                  0                0                  0                  0   \n",
       "7                  0                0                  0                  0   \n",
       "8                  0                0                  0                  0   \n",
       "9                  0                0                  0                  0   \n",
       "\n",
       "   otherBenefit_TK-K  otherBenefit_DER  otherBenefit_LUKO  otherBenefit_KURE  \n",
       "0                  0                 0                  0                  0  \n",
       "1                  0                 0                  0                  0  \n",
       "2                  0                 0                  0                  0  \n",
       "3                  0                 0                  0                  0  \n",
       "4                  0                 0                  0                  0  \n",
       "5                  0                 0                  0                  0  \n",
       "6                  0                 0                  0                  0  \n",
       "7                  0                 0                  0                  0  \n",
       "8                  0                 0                  0                  0  \n",
       "9                  0                 0                  0                  0  \n",
       "\n",
       "[10 rows x 107 columns]"
      ]
     },
     "execution_count": 77,
     "metadata": {},
     "output_type": "execute_result"
    }
   ],
   "source": [
    "df_data2 = pd.DataFrame()\n",
    "def containsX(value, valueX):\n",
    "    contains = 0\n",
    "    if valueX in value:\n",
    "        contains = 1\n",
    "    return contains\n",
    "for incomeType in incomeTypeValues:\n",
    "    df_data2['incomeType_'+incomeType] = df_data['IncomeTypes'].apply(lambda x:containsX(x, incomeType))\n",
    "for otherBenefitSubType in otherBenefitSubTypeValues:\n",
    "    df_data2['otherSubBenefit_'+otherBenefitSubType] = df_data['OtherBenefitSubTypes'].apply(lambda x:containsX(x, otherBenefitSubType))\n",
    "for otherBenefitType in otherBenefitTypeValues:\n",
    "    df_data2['otherBenefit_'+otherBenefitType] = df_data['OtherBenefitTypes'].apply(lambda x:containsX(x, otherBenefitType))\n",
    "df_data2.head(10)"
   ]
  },
  {
   "cell_type": "markdown",
   "metadata": {},
   "source": [
    "Next, we will add \"normally one-hot encoded\" number of household members in this data set."
   ]
  },
  {
   "cell_type": "code",
   "execution_count": 78,
   "metadata": {},
   "outputs": [
    {
     "data": {
      "text/html": [
       "<div>\n",
       "<style scoped>\n",
       "    .dataframe tbody tr th:only-of-type {\n",
       "        vertical-align: middle;\n",
       "    }\n",
       "\n",
       "    .dataframe tbody tr th {\n",
       "        vertical-align: top;\n",
       "    }\n",
       "\n",
       "    .dataframe thead th {\n",
       "        text-align: right;\n",
       "    }\n",
       "</style>\n",
       "<table border=\"1\" class=\"dataframe\">\n",
       "  <thead>\n",
       "    <tr style=\"text-align: right;\">\n",
       "      <th></th>\n",
       "      <th>incomeType_30</th>\n",
       "      <th>incomeType_01</th>\n",
       "      <th>incomeType_05</th>\n",
       "      <th>incomeType_02</th>\n",
       "      <th>incomeType_04</th>\n",
       "      <th>incomeType_03</th>\n",
       "      <th>incomeType_23</th>\n",
       "      <th>otherSubBenefit_PM</th>\n",
       "      <th>otherSubBenefit_PO</th>\n",
       "      <th>otherSubBenefit_AL</th>\n",
       "      <th>...</th>\n",
       "      <th>householdMembers__8</th>\n",
       "      <th>householdMembers__9</th>\n",
       "      <th>householdMembers__10</th>\n",
       "      <th>householdMembers__11</th>\n",
       "      <th>householdMembers__12</th>\n",
       "      <th>householdMembers__13</th>\n",
       "      <th>householdMembers__14</th>\n",
       "      <th>householdMembers__15</th>\n",
       "      <th>householdMembers__16</th>\n",
       "      <th>householdMembers__18</th>\n",
       "    </tr>\n",
       "  </thead>\n",
       "  <tbody>\n",
       "    <tr>\n",
       "      <th>0</th>\n",
       "      <td>0</td>\n",
       "      <td>0</td>\n",
       "      <td>0</td>\n",
       "      <td>0</td>\n",
       "      <td>0</td>\n",
       "      <td>0</td>\n",
       "      <td>0</td>\n",
       "      <td>0</td>\n",
       "      <td>0</td>\n",
       "      <td>0</td>\n",
       "      <td>...</td>\n",
       "      <td>0</td>\n",
       "      <td>0</td>\n",
       "      <td>0</td>\n",
       "      <td>0</td>\n",
       "      <td>0</td>\n",
       "      <td>0</td>\n",
       "      <td>0</td>\n",
       "      <td>0</td>\n",
       "      <td>0</td>\n",
       "      <td>0</td>\n",
       "    </tr>\n",
       "    <tr>\n",
       "      <th>1</th>\n",
       "      <td>0</td>\n",
       "      <td>0</td>\n",
       "      <td>0</td>\n",
       "      <td>0</td>\n",
       "      <td>0</td>\n",
       "      <td>0</td>\n",
       "      <td>0</td>\n",
       "      <td>0</td>\n",
       "      <td>0</td>\n",
       "      <td>0</td>\n",
       "      <td>...</td>\n",
       "      <td>0</td>\n",
       "      <td>0</td>\n",
       "      <td>0</td>\n",
       "      <td>0</td>\n",
       "      <td>0</td>\n",
       "      <td>0</td>\n",
       "      <td>0</td>\n",
       "      <td>0</td>\n",
       "      <td>0</td>\n",
       "      <td>0</td>\n",
       "    </tr>\n",
       "    <tr>\n",
       "      <th>2</th>\n",
       "      <td>0</td>\n",
       "      <td>0</td>\n",
       "      <td>0</td>\n",
       "      <td>0</td>\n",
       "      <td>0</td>\n",
       "      <td>0</td>\n",
       "      <td>0</td>\n",
       "      <td>0</td>\n",
       "      <td>0</td>\n",
       "      <td>0</td>\n",
       "      <td>...</td>\n",
       "      <td>0</td>\n",
       "      <td>0</td>\n",
       "      <td>0</td>\n",
       "      <td>0</td>\n",
       "      <td>0</td>\n",
       "      <td>0</td>\n",
       "      <td>0</td>\n",
       "      <td>0</td>\n",
       "      <td>0</td>\n",
       "      <td>0</td>\n",
       "    </tr>\n",
       "    <tr>\n",
       "      <th>3</th>\n",
       "      <td>1</td>\n",
       "      <td>0</td>\n",
       "      <td>0</td>\n",
       "      <td>0</td>\n",
       "      <td>0</td>\n",
       "      <td>0</td>\n",
       "      <td>0</td>\n",
       "      <td>0</td>\n",
       "      <td>0</td>\n",
       "      <td>0</td>\n",
       "      <td>...</td>\n",
       "      <td>0</td>\n",
       "      <td>0</td>\n",
       "      <td>0</td>\n",
       "      <td>0</td>\n",
       "      <td>0</td>\n",
       "      <td>0</td>\n",
       "      <td>0</td>\n",
       "      <td>0</td>\n",
       "      <td>0</td>\n",
       "      <td>0</td>\n",
       "    </tr>\n",
       "    <tr>\n",
       "      <th>4</th>\n",
       "      <td>0</td>\n",
       "      <td>0</td>\n",
       "      <td>0</td>\n",
       "      <td>0</td>\n",
       "      <td>0</td>\n",
       "      <td>0</td>\n",
       "      <td>0</td>\n",
       "      <td>0</td>\n",
       "      <td>0</td>\n",
       "      <td>0</td>\n",
       "      <td>...</td>\n",
       "      <td>0</td>\n",
       "      <td>0</td>\n",
       "      <td>0</td>\n",
       "      <td>0</td>\n",
       "      <td>0</td>\n",
       "      <td>0</td>\n",
       "      <td>0</td>\n",
       "      <td>0</td>\n",
       "      <td>0</td>\n",
       "      <td>0</td>\n",
       "    </tr>\n",
       "    <tr>\n",
       "      <th>5</th>\n",
       "      <td>0</td>\n",
       "      <td>0</td>\n",
       "      <td>0</td>\n",
       "      <td>0</td>\n",
       "      <td>0</td>\n",
       "      <td>0</td>\n",
       "      <td>0</td>\n",
       "      <td>0</td>\n",
       "      <td>0</td>\n",
       "      <td>0</td>\n",
       "      <td>...</td>\n",
       "      <td>0</td>\n",
       "      <td>0</td>\n",
       "      <td>0</td>\n",
       "      <td>0</td>\n",
       "      <td>0</td>\n",
       "      <td>0</td>\n",
       "      <td>0</td>\n",
       "      <td>0</td>\n",
       "      <td>0</td>\n",
       "      <td>0</td>\n",
       "    </tr>\n",
       "    <tr>\n",
       "      <th>6</th>\n",
       "      <td>0</td>\n",
       "      <td>0</td>\n",
       "      <td>0</td>\n",
       "      <td>0</td>\n",
       "      <td>0</td>\n",
       "      <td>0</td>\n",
       "      <td>0</td>\n",
       "      <td>0</td>\n",
       "      <td>0</td>\n",
       "      <td>0</td>\n",
       "      <td>...</td>\n",
       "      <td>0</td>\n",
       "      <td>0</td>\n",
       "      <td>0</td>\n",
       "      <td>0</td>\n",
       "      <td>0</td>\n",
       "      <td>0</td>\n",
       "      <td>0</td>\n",
       "      <td>0</td>\n",
       "      <td>0</td>\n",
       "      <td>0</td>\n",
       "    </tr>\n",
       "    <tr>\n",
       "      <th>7</th>\n",
       "      <td>0</td>\n",
       "      <td>0</td>\n",
       "      <td>0</td>\n",
       "      <td>0</td>\n",
       "      <td>0</td>\n",
       "      <td>0</td>\n",
       "      <td>0</td>\n",
       "      <td>0</td>\n",
       "      <td>0</td>\n",
       "      <td>0</td>\n",
       "      <td>...</td>\n",
       "      <td>0</td>\n",
       "      <td>0</td>\n",
       "      <td>0</td>\n",
       "      <td>0</td>\n",
       "      <td>0</td>\n",
       "      <td>0</td>\n",
       "      <td>0</td>\n",
       "      <td>0</td>\n",
       "      <td>0</td>\n",
       "      <td>0</td>\n",
       "    </tr>\n",
       "    <tr>\n",
       "      <th>8</th>\n",
       "      <td>0</td>\n",
       "      <td>0</td>\n",
       "      <td>0</td>\n",
       "      <td>0</td>\n",
       "      <td>0</td>\n",
       "      <td>0</td>\n",
       "      <td>0</td>\n",
       "      <td>0</td>\n",
       "      <td>0</td>\n",
       "      <td>0</td>\n",
       "      <td>...</td>\n",
       "      <td>0</td>\n",
       "      <td>0</td>\n",
       "      <td>0</td>\n",
       "      <td>0</td>\n",
       "      <td>0</td>\n",
       "      <td>0</td>\n",
       "      <td>0</td>\n",
       "      <td>0</td>\n",
       "      <td>0</td>\n",
       "      <td>0</td>\n",
       "    </tr>\n",
       "    <tr>\n",
       "      <th>9</th>\n",
       "      <td>1</td>\n",
       "      <td>0</td>\n",
       "      <td>0</td>\n",
       "      <td>0</td>\n",
       "      <td>0</td>\n",
       "      <td>0</td>\n",
       "      <td>0</td>\n",
       "      <td>0</td>\n",
       "      <td>0</td>\n",
       "      <td>0</td>\n",
       "      <td>...</td>\n",
       "      <td>0</td>\n",
       "      <td>0</td>\n",
       "      <td>0</td>\n",
       "      <td>0</td>\n",
       "      <td>0</td>\n",
       "      <td>0</td>\n",
       "      <td>0</td>\n",
       "      <td>0</td>\n",
       "      <td>0</td>\n",
       "      <td>0</td>\n",
       "    </tr>\n",
       "  </tbody>\n",
       "</table>\n",
       "<p>10 rows × 124 columns</p>\n",
       "</div>"
      ],
      "text/plain": [
       "   incomeType_30  incomeType_01  incomeType_05  incomeType_02  incomeType_04  \\\n",
       "0              0              0              0              0              0   \n",
       "1              0              0              0              0              0   \n",
       "2              0              0              0              0              0   \n",
       "3              1              0              0              0              0   \n",
       "4              0              0              0              0              0   \n",
       "5              0              0              0              0              0   \n",
       "6              0              0              0              0              0   \n",
       "7              0              0              0              0              0   \n",
       "8              0              0              0              0              0   \n",
       "9              1              0              0              0              0   \n",
       "\n",
       "   incomeType_03  incomeType_23  otherSubBenefit_PM  otherSubBenefit_PO  \\\n",
       "0              0              0                   0                   0   \n",
       "1              0              0                   0                   0   \n",
       "2              0              0                   0                   0   \n",
       "3              0              0                   0                   0   \n",
       "4              0              0                   0                   0   \n",
       "5              0              0                   0                   0   \n",
       "6              0              0                   0                   0   \n",
       "7              0              0                   0                   0   \n",
       "8              0              0                   0                   0   \n",
       "9              0              0                   0                   0   \n",
       "\n",
       "   otherSubBenefit_AL          ...           householdMembers__8  \\\n",
       "0                   0          ...                             0   \n",
       "1                   0          ...                             0   \n",
       "2                   0          ...                             0   \n",
       "3                   0          ...                             0   \n",
       "4                   0          ...                             0   \n",
       "5                   0          ...                             0   \n",
       "6                   0          ...                             0   \n",
       "7                   0          ...                             0   \n",
       "8                   0          ...                             0   \n",
       "9                   0          ...                             0   \n",
       "\n",
       "   householdMembers__9  householdMembers__10  householdMembers__11  \\\n",
       "0                    0                     0                     0   \n",
       "1                    0                     0                     0   \n",
       "2                    0                     0                     0   \n",
       "3                    0                     0                     0   \n",
       "4                    0                     0                     0   \n",
       "5                    0                     0                     0   \n",
       "6                    0                     0                     0   \n",
       "7                    0                     0                     0   \n",
       "8                    0                     0                     0   \n",
       "9                    0                     0                     0   \n",
       "\n",
       "   householdMembers__12  householdMembers__13  householdMembers__14  \\\n",
       "0                     0                     0                     0   \n",
       "1                     0                     0                     0   \n",
       "2                     0                     0                     0   \n",
       "3                     0                     0                     0   \n",
       "4                     0                     0                     0   \n",
       "5                     0                     0                     0   \n",
       "6                     0                     0                     0   \n",
       "7                     0                     0                     0   \n",
       "8                     0                     0                     0   \n",
       "9                     0                     0                     0   \n",
       "\n",
       "   householdMembers__15  householdMembers__16  householdMembers__18  \n",
       "0                     0                     0                     0  \n",
       "1                     0                     0                     0  \n",
       "2                     0                     0                     0  \n",
       "3                     0                     0                     0  \n",
       "4                     0                     0                     0  \n",
       "5                     0                     0                     0  \n",
       "6                     0                     0                     0  \n",
       "7                     0                     0                     0  \n",
       "8                     0                     0                     0  \n",
       "9                     0                     0                     0  \n",
       "\n",
       "[10 rows x 124 columns]"
      ]
     },
     "execution_count": 78,
     "metadata": {},
     "output_type": "execute_result"
    }
   ],
   "source": [
    "df_data2 = pd.concat([df_data2, pd.get_dummies(df_data['NumberOfHouseholdMembers'], prefix='householdMembers_')], axis=1)\n",
    "df_data2.head(10)"
   ]
  },
  {
   "cell_type": "markdown",
   "metadata": {},
   "source": [
    "# Modeling\n",
    "We are required to create at least one deep learning model and at least one non-deep learning model for the problem. We will start with non-deep learning.\n",
    "## Model 1: SVM\n",
    "We will be trying out Support Vector Machine. SVM is relatively fast to train, and can be configured to support multiclass classification. We will be using F1 score for measure of success. In this case, every mislabeling is just as problematic, and F1 score balances these."
   ]
  },
  {
   "cell_type": "code",
   "execution_count": 79,
   "metadata": {},
   "outputs": [],
   "source": [
    "from sklearn.svm import LinearSVC, SVC\n",
    "from sklearn.model_selection import train_test_split, GridSearchCV\n",
    "from sklearn.pipeline import Pipeline\n",
    "from sklearn.preprocessing import OneHotEncoder, LabelEncoder\n",
    "from sklearn.metrics import classification_report, f1_score\n",
    "from sklearn.base import BaseEstimator"
   ]
  },
  {
   "cell_type": "code",
   "execution_count": 80,
   "metadata": {},
   "outputs": [],
   "source": [
    "X_train, X_test, y_train, y_test = train_test_split(df_data2, df_label, random_state=0)"
   ]
  },
  {
   "cell_type": "code",
   "execution_count": 82,
   "metadata": {},
   "outputs": [],
   "source": [
    "# Start with trying out one model without a pipeline\n",
    "model = LinearSVC(C=1.0, tol=1e-6, verbose=True, multi_class='ovr')"
   ]
  },
  {
   "cell_type": "code",
   "execution_count": 83,
   "metadata": {},
   "outputs": [
    {
     "name": "stdout",
     "output_type": "stream",
     "text": [
      "[LibLinear]"
     ]
    },
    {
     "data": {
      "text/plain": [
       "LinearSVC(C=1.0, class_weight=None, dual=True, fit_intercept=True,\n",
       "     intercept_scaling=1, loss='squared_hinge', max_iter=1000,\n",
       "     multi_class='ovr', penalty='l2', random_state=None, tol=1e-06,\n",
       "     verbose=True)"
      ]
     },
     "execution_count": 83,
     "metadata": {},
     "output_type": "execute_result"
    }
   ],
   "source": [
    "model.fit(X_train, np.ravel(y_train))"
   ]
  },
  {
   "cell_type": "code",
   "execution_count": 84,
   "metadata": {
    "scrolled": true
   },
   "outputs": [
    {
     "name": "stdout",
     "output_type": "stream",
     "text": [
      "CPU times: user 798 ms, sys: 293 ms, total: 1.09 s\n",
      "Wall time: 110 ms\n",
      "             precision    recall  f1-score   support\n",
      "\n",
      "          0       0.22      0.75      0.34      1402\n",
      "          1       0.00      0.00      0.00       631\n",
      "          2       0.00      0.00      0.00       468\n",
      "          3       0.00      0.00      0.00       419\n",
      "          4       0.00      0.00      0.00       260\n",
      "          5       0.00      0.00      0.00       252\n",
      "          6       0.00      0.00      0.00       238\n",
      "          7       0.00      0.00      0.00       223\n",
      "          8       0.00      0.00      0.00       194\n",
      "          9       0.00      0.00      0.00       186\n",
      "         10       0.00      0.00      0.00       165\n",
      "         11       0.00      0.00      0.00       133\n",
      "         12       0.00      0.00      0.00       117\n",
      "         13       0.00      0.00      0.00       130\n",
      "         14       0.00      0.00      0.00        97\n",
      "         15       0.00      0.00      0.00       109\n",
      "         16       0.00      0.00      0.00       108\n",
      "         17       0.00      0.00      0.00       117\n",
      "         18       0.00      0.00      0.00       122\n",
      "         19       0.00      0.00      0.00        81\n",
      "         20       0.00      0.00      0.00        91\n",
      "         21       0.00      0.00      0.00       104\n",
      "         22       0.00      0.00      0.00        85\n",
      "         23       0.00      0.00      0.00        75\n",
      "         24       0.00      0.00      0.00        84\n",
      "         25       0.00      0.00      0.00        92\n",
      "         26       0.00      0.00      0.00        79\n",
      "         27       0.00      0.00      0.00        68\n",
      "         28       0.00      0.00      0.00        62\n",
      "         29       0.00      0.00      0.00        55\n",
      "         30       0.00      0.00      0.00        60\n",
      "         31       0.00      0.00      0.00        50\n",
      "         32       0.00      0.00      0.00        54\n",
      "         33       0.00      0.00      0.00        56\n",
      "         34       0.00      0.00      0.00        52\n",
      "         35       0.00      0.00      0.00        64\n",
      "         36       0.00      0.00      0.00        54\n",
      "         37       0.00      0.00      0.00        55\n",
      "         38       0.00      0.00      0.00        53\n",
      "         39       0.00      0.00      0.00        64\n",
      "         40       0.00      0.00      0.00        50\n",
      "         41       0.00      0.00      0.00        38\n",
      "         42       0.00      0.00      0.00        41\n",
      "         43       0.00      0.00      0.00        55\n",
      "         44       0.00      0.00      0.00        47\n",
      "         45       0.00      0.00      0.00        42\n",
      "         46       0.00      0.00      0.00        49\n",
      "         47       0.00      0.00      0.00        42\n",
      "         48       0.00      0.00      0.00        44\n",
      "         49       0.00      0.00      0.00        29\n",
      "         50       0.00      0.00      0.00        42\n",
      "         51       0.00      0.00      0.00        35\n",
      "         52       0.00      0.00      0.00        41\n",
      "         53       0.00      0.00      0.00        39\n",
      "         54       0.00      0.00      0.00        40\n",
      "         55       0.00      0.00      0.00        33\n",
      "         56       0.00      0.00      0.00        30\n",
      "         57       0.00      0.00      0.00        36\n",
      "         58       0.00      0.00      0.00        34\n",
      "         59       0.00      0.00      0.00        25\n",
      "         60       0.00      0.00      0.00        26\n",
      "         61       0.00      0.00      0.00        30\n",
      "         62       0.00      0.00      0.00        30\n",
      "         63       0.00      0.00      0.00        30\n",
      "         64       0.00      0.00      0.00        32\n",
      "         65       0.00      0.00      0.00        31\n",
      "         66       0.00      0.00      0.00        26\n",
      "         67       0.00      0.00      0.00        36\n",
      "         68       0.00      0.00      0.00        20\n",
      "         69       0.00      0.00      0.00        24\n",
      "         70       0.00      0.00      0.00        32\n",
      "         71       0.00      0.00      0.00        19\n",
      "         72       0.00      0.00      0.00        22\n",
      "         73       0.00      0.00      0.00        30\n",
      "         74       0.00      0.00      0.00        29\n",
      "         75       0.00      0.00      0.00        38\n",
      "         76       0.00      0.00      0.00        31\n",
      "         77       0.00      0.00      0.00        24\n",
      "         78       0.00      0.00      0.00        16\n",
      "         79       0.00      0.00      0.00        26\n",
      "         80       0.00      0.00      0.00        28\n",
      "         81       0.00      0.00      0.00        18\n",
      "         82       0.00      0.00      0.00        19\n",
      "         83       0.00      0.00      0.00        25\n",
      "         84       0.00      0.00      0.00        22\n",
      "         85       0.00      0.00      0.00        28\n",
      "         86       0.00      0.00      0.00        24\n",
      "         87       0.00      0.00      0.00        24\n",
      "         88       0.00      0.00      0.00        20\n",
      "         89       0.00      0.00      0.00        26\n",
      "         90       0.00      0.00      0.00        23\n",
      "         91       0.00      0.00      0.00        23\n",
      "         92       0.00      0.00      0.00        16\n",
      "         93       0.00      0.00      0.00        15\n",
      "         94       0.00      0.00      0.00        19\n",
      "         95       0.00      0.00      0.00        22\n",
      "         96       0.00      0.00      0.00        24\n",
      "         97       0.00      0.00      0.00        20\n",
      "         98       0.00      0.00      0.00        24\n",
      "         99       0.00      0.00      0.00        24\n",
      "        100       0.00      0.00      0.00        20\n",
      "        101       0.00      0.00      0.00        16\n",
      "        102       0.00      0.00      0.00        17\n",
      "        103       0.00      0.00      0.00        14\n",
      "        104       0.00      0.00      0.00         8\n",
      "        105       0.00      0.00      0.00        20\n",
      "        106       0.00      0.00      0.00        19\n",
      "        107       0.00      0.00      0.00        20\n",
      "        108       0.00      0.00      0.00        24\n",
      "        109       0.00      0.00      0.00        23\n",
      "        110       0.00      0.00      0.00        12\n",
      "        111       0.00      0.00      0.00        20\n",
      "        112       0.00      0.00      0.00        20\n",
      "        113       0.00      0.00      0.00        17\n",
      "        114       0.00      0.00      0.00        14\n",
      "        115       0.00      0.00      0.00         9\n",
      "        116       0.00      0.00      0.00        13\n",
      "        117       0.00      0.00      0.00        21\n",
      "        118       0.00      0.00      0.00        18\n",
      "        119       0.00      0.00      0.00        11\n",
      "        120       0.00      0.00      0.00        16\n",
      "        121       0.00      0.00      0.00        20\n",
      "        122       0.00      0.00      0.00        12\n",
      "        123       0.00      0.00      0.00        21\n",
      "        124       0.00      0.00      0.00        14\n",
      "        125       0.00      0.00      0.00        14\n",
      "        126       0.00      0.00      0.00        15\n",
      "        127       0.00      0.00      0.00        13\n",
      "        128       1.00      0.06      0.12        16\n",
      "        129       0.00      0.00      0.00        13\n",
      "        130       0.00      0.00      0.00        14\n",
      "        131       0.00      0.00      0.00        12\n",
      "        132       0.00      0.00      0.00        15\n",
      "        133       0.00      0.00      0.00        10\n",
      "        134       0.00      0.00      0.00        14\n",
      "        135       0.00      0.00      0.00        15\n",
      "        136       0.00      0.00      0.00         8\n",
      "        137       0.00      0.00      0.00        12\n",
      "        138       0.00      0.00      0.00         8\n",
      "        139       0.00      0.00      0.00        13\n",
      "        140       0.00      0.00      0.00        14\n",
      "        141       0.00      0.00      0.00        16\n",
      "        142       0.00      0.00      0.00        12\n",
      "        143       0.00      0.00      0.00        11\n",
      "        144       0.00      0.00      0.00        14\n",
      "        145       0.00      0.00      0.00         4\n",
      "        146       0.00      0.00      0.00        15\n",
      "        147       0.54      0.89      0.68      7193\n",
      "\n",
      "avg / total       0.26      0.45      0.32     16487\n",
      "\n"
     ]
    },
    {
     "name": "stderr",
     "output_type": "stream",
     "text": [
      "/usr/local/src/conda3_runtime/home/envs/DSX-Python35-Spark/lib/python3.5/site-packages/sklearn/metrics/classification.py:1135: UndefinedMetricWarning: Precision and F-score are ill-defined and being set to 0.0 in labels with no predicted samples.\n",
      "  'precision', 'predicted', average, warn_for)\n"
     ]
    }
   ],
   "source": [
    "%time yfit = model.predict(X_test)\n",
    "print(classification_report(y_test, yfit))"
   ]
  },
  {
   "cell_type": "code",
   "execution_count": 20,
   "metadata": {},
   "outputs": [],
   "source": [
    "# Duh... need to LabelEncode multiple columns\n",
    "# We want to be able to create a Pipeline, thus cannot use pd.get_dummies which would do the job\n",
    "# Seehttps://stackoverflow.com/questions/24458645/label-encoding-across-multiple-columns-in-scikit-learn\n",
    "# We need to inherit this class from BaseEstimator, otherwise we cannot use this in GridSearchCV\n",
    "class MultiColumnLabelEncoder(BaseEstimator):\n",
    "    def __init__(self,columns = None):\n",
    "        self.columns = columns # array of column names to encode\n",
    "\n",
    "    def fit(self,X,y=None):\n",
    "        return self # not relevant here\n",
    "\n",
    "    def transform(self,X):\n",
    "        '''\n",
    "        Transforms columns of X specified in self.columns using\n",
    "        LabelEncoder(). If no columns specified, transforms all\n",
    "        columns in X.\n",
    "        '''\n",
    "        output = X.copy()\n",
    "        if self.columns is not None:\n",
    "            for col in self.columns:\n",
    "                output[col] = LabelEncoder().fit_transform(output[col])\n",
    "        else:\n",
    "            for colname,col in output.iteritems():\n",
    "                output[colname] = LabelEncoder().fit_transform(col)\n",
    "        return output\n",
    "\n",
    "    def fit_transform(self,X,y=None):\n",
    "        return self.fit(X,y).transform(X)"
   ]
  },
  {
   "cell_type": "code",
   "execution_count": 21,
   "metadata": {},
   "outputs": [],
   "source": [
    "# Form a pipeline for modeling\n",
    "labelencoder_features = MultiColumnLabelEncoder(columns={'IncomeTypes','OtherBenefitTypes','OtherBenefitSubTypes','NumberOfHouseholdMembers'})\n",
    "onehotencoder_features = OneHotEncoder(categorical_features = [0,1,2,3], handle_unknown='ignore')\n",
    "pipeline = Pipeline([('labels',labelencoder_features),\n",
    "                     ('onehot',onehotencoder_features), \n",
    "                     ('model', LinearSVC(C=1.0, tol=1e-6, verbose=True, multi_class='ovr'))])"
   ]
  },
  {
   "cell_type": "code",
   "execution_count": 85,
   "metadata": {},
   "outputs": [],
   "source": [
    "# This pipeline is here just in case we need to plug in encoding stuff\n",
    "pipeline = Pipeline([('model', LinearSVC(C=1.0, tol=1e-6, verbose=True, multi_class='ovr'))])"
   ]
  },
  {
   "cell_type": "code",
   "execution_count": 86,
   "metadata": {},
   "outputs": [
    {
     "name": "stdout",
     "output_type": "stream",
     "text": [
      "[LibLinear]CPU times: user 1min 5s, sys: 169 ms, total: 1min 5s\n",
      "Wall time: 1min 5s\n"
     ]
    },
    {
     "data": {
      "text/plain": [
       "Pipeline(memory=None,\n",
       "     steps=[('model', LinearSVC(C=1.0, class_weight=None, dual=True, fit_intercept=True,\n",
       "     intercept_scaling=1, loss='squared_hinge', max_iter=1000,\n",
       "     multi_class='ovr', penalty='l2', random_state=None, tol=1e-06,\n",
       "     verbose=True))])"
      ]
     },
     "execution_count": 86,
     "metadata": {},
     "output_type": "execute_result"
    }
   ],
   "source": [
    "%time pipeline.fit(X_train, np.ravel(y_train))"
   ]
  },
  {
   "cell_type": "code",
   "execution_count": 87,
   "metadata": {},
   "outputs": [
    {
     "name": "stdout",
     "output_type": "stream",
     "text": [
      "CPU times: user 511 ms, sys: 196 ms, total: 707 ms\n",
      "Wall time: 80.3 ms\n",
      "             precision    recall  f1-score   support\n",
      "\n",
      "          0       0.22      0.75      0.34      1402\n",
      "          1       0.00      0.00      0.00       631\n",
      "          2       0.00      0.00      0.00       468\n",
      "          3       0.00      0.00      0.00       419\n",
      "          4       0.00      0.00      0.00       260\n",
      "          5       0.00      0.00      0.00       252\n",
      "          6       0.00      0.00      0.00       238\n",
      "          7       0.00      0.00      0.00       223\n",
      "          8       0.00      0.00      0.00       194\n",
      "          9       0.00      0.00      0.00       186\n",
      "         10       0.00      0.00      0.00       165\n",
      "         11       0.00      0.00      0.00       133\n",
      "         12       0.00      0.00      0.00       117\n",
      "         13       0.00      0.00      0.00       130\n",
      "         14       0.00      0.00      0.00        97\n",
      "         15       0.00      0.00      0.00       109\n",
      "         16       0.00      0.00      0.00       108\n",
      "         17       0.00      0.00      0.00       117\n",
      "         18       0.00      0.00      0.00       122\n",
      "         19       0.00      0.00      0.00        81\n",
      "         20       0.00      0.00      0.00        91\n",
      "         21       0.00      0.00      0.00       104\n",
      "         22       0.00      0.00      0.00        85\n",
      "         23       0.00      0.00      0.00        75\n",
      "         24       0.00      0.00      0.00        84\n",
      "         25       0.00      0.00      0.00        92\n",
      "         26       0.00      0.00      0.00        79\n",
      "         27       0.00      0.00      0.00        68\n",
      "         28       0.00      0.00      0.00        62\n",
      "         29       0.00      0.00      0.00        55\n",
      "         30       0.00      0.00      0.00        60\n",
      "         31       0.00      0.00      0.00        50\n",
      "         32       0.00      0.00      0.00        54\n",
      "         33       0.00      0.00      0.00        56\n",
      "         34       0.00      0.00      0.00        52\n",
      "         35       0.00      0.00      0.00        64\n",
      "         36       0.00      0.00      0.00        54\n",
      "         37       0.00      0.00      0.00        55\n",
      "         38       0.00      0.00      0.00        53\n",
      "         39       0.00      0.00      0.00        64\n",
      "         40       0.00      0.00      0.00        50\n",
      "         41       0.00      0.00      0.00        38\n",
      "         42       0.00      0.00      0.00        41\n",
      "         43       0.00      0.00      0.00        55\n",
      "         44       0.00      0.00      0.00        47\n",
      "         45       0.00      0.00      0.00        42\n",
      "         46       0.00      0.00      0.00        49\n",
      "         47       0.00      0.00      0.00        42\n",
      "         48       0.00      0.00      0.00        44\n",
      "         49       0.00      0.00      0.00        29\n",
      "         50       0.00      0.00      0.00        42\n",
      "         51       0.00      0.00      0.00        35\n",
      "         52       0.00      0.00      0.00        41\n",
      "         53       0.00      0.00      0.00        39\n",
      "         54       0.00      0.00      0.00        40\n",
      "         55       0.00      0.00      0.00        33\n",
      "         56       0.00      0.00      0.00        30\n",
      "         57       0.00      0.00      0.00        36\n",
      "         58       0.00      0.00      0.00        34\n",
      "         59       0.00      0.00      0.00        25\n",
      "         60       0.00      0.00      0.00        26\n",
      "         61       0.00      0.00      0.00        30\n",
      "         62       0.00      0.00      0.00        30\n",
      "         63       0.00      0.00      0.00        30\n",
      "         64       0.00      0.00      0.00        32\n",
      "         65       0.00      0.00      0.00        31\n",
      "         66       0.00      0.00      0.00        26\n",
      "         67       0.00      0.00      0.00        36\n",
      "         68       0.00      0.00      0.00        20\n",
      "         69       0.00      0.00      0.00        24\n",
      "         70       0.00      0.00      0.00        32\n",
      "         71       0.00      0.00      0.00        19\n",
      "         72       0.00      0.00      0.00        22\n",
      "         73       0.00      0.00      0.00        30\n",
      "         74       0.00      0.00      0.00        29\n",
      "         75       0.00      0.00      0.00        38\n",
      "         76       0.00      0.00      0.00        31\n",
      "         77       0.00      0.00      0.00        24\n",
      "         78       0.00      0.00      0.00        16\n",
      "         79       0.00      0.00      0.00        26\n",
      "         80       0.00      0.00      0.00        28\n",
      "         81       0.00      0.00      0.00        18\n",
      "         82       0.00      0.00      0.00        19\n",
      "         83       0.00      0.00      0.00        25\n",
      "         84       0.00      0.00      0.00        22\n",
      "         85       0.00      0.00      0.00        28\n",
      "         86       0.00      0.00      0.00        24\n",
      "         87       0.00      0.00      0.00        24\n",
      "         88       0.00      0.00      0.00        20\n",
      "         89       0.00      0.00      0.00        26\n",
      "         90       0.00      0.00      0.00        23\n",
      "         91       0.00      0.00      0.00        23\n",
      "         92       0.00      0.00      0.00        16\n",
      "         93       0.00      0.00      0.00        15\n",
      "         94       0.00      0.00      0.00        19\n",
      "         95       0.00      0.00      0.00        22\n",
      "         96       0.00      0.00      0.00        24\n",
      "         97       0.00      0.00      0.00        20\n",
      "         98       0.00      0.00      0.00        24\n",
      "         99       0.00      0.00      0.00        24\n",
      "        100       0.00      0.00      0.00        20\n",
      "        101       0.00      0.00      0.00        16\n",
      "        102       0.00      0.00      0.00        17\n",
      "        103       0.00      0.00      0.00        14\n",
      "        104       0.00      0.00      0.00         8\n",
      "        105       0.00      0.00      0.00        20\n",
      "        106       0.00      0.00      0.00        19\n",
      "        107       0.00      0.00      0.00        20\n",
      "        108       0.00      0.00      0.00        24\n",
      "        109       0.00      0.00      0.00        23\n",
      "        110       0.00      0.00      0.00        12\n",
      "        111       0.00      0.00      0.00        20\n",
      "        112       0.00      0.00      0.00        20\n",
      "        113       0.00      0.00      0.00        17\n",
      "        114       0.00      0.00      0.00        14\n",
      "        115       0.00      0.00      0.00         9\n",
      "        116       0.00      0.00      0.00        13\n",
      "        117       0.00      0.00      0.00        21\n",
      "        118       0.00      0.00      0.00        18\n",
      "        119       0.00      0.00      0.00        11\n",
      "        120       0.00      0.00      0.00        16\n",
      "        121       0.00      0.00      0.00        20\n",
      "        122       0.00      0.00      0.00        12\n",
      "        123       0.00      0.00      0.00        21\n",
      "        124       0.00      0.00      0.00        14\n",
      "        125       0.00      0.00      0.00        14\n",
      "        126       0.00      0.00      0.00        15\n",
      "        127       0.00      0.00      0.00        13\n",
      "        128       1.00      0.06      0.12        16\n",
      "        129       0.00      0.00      0.00        13\n",
      "        130       0.00      0.00      0.00        14\n",
      "        131       0.00      0.00      0.00        12\n",
      "        132       0.00      0.00      0.00        15\n",
      "        133       0.00      0.00      0.00        10\n",
      "        134       0.00      0.00      0.00        14\n",
      "        135       0.00      0.00      0.00        15\n",
      "        136       0.00      0.00      0.00         8\n",
      "        137       0.00      0.00      0.00        12\n",
      "        138       0.00      0.00      0.00         8\n",
      "        139       0.00      0.00      0.00        13\n",
      "        140       0.00      0.00      0.00        14\n",
      "        141       0.00      0.00      0.00        16\n",
      "        142       0.00      0.00      0.00        12\n",
      "        143       0.00      0.00      0.00        11\n",
      "        144       0.00      0.00      0.00        14\n",
      "        145       0.00      0.00      0.00         4\n",
      "        146       0.00      0.00      0.00        15\n",
      "        147       0.54      0.89      0.68      7193\n",
      "\n",
      "avg / total       0.26      0.45      0.32     16487\n",
      "\n"
     ]
    },
    {
     "name": "stderr",
     "output_type": "stream",
     "text": [
      "/usr/local/src/conda3_runtime/home/envs/DSX-Python35-Spark/lib/python3.5/site-packages/sklearn/metrics/classification.py:1135: UndefinedMetricWarning: Precision and F-score are ill-defined and being set to 0.0 in labels with no predicted samples.\n",
      "  'precision', 'predicted', average, warn_for)\n"
     ]
    }
   ],
   "source": [
    "%time yfit = pipeline.predict(X_test)\n",
    "print(classification_report(y_test, yfit))"
   ]
  },
  {
   "cell_type": "markdown",
   "metadata": {},
   "source": [
    "That does not look too good... Let us try some hyperparameter tuning to see whether the resuls can be improved."
   ]
  },
  {
   "cell_type": "code",
   "execution_count": 88,
   "metadata": {
    "scrolled": true
   },
   "outputs": [
    {
     "name": "stdout",
     "output_type": "stream",
     "text": [
      "[LibLinear]"
     ]
    },
    {
     "name": "stderr",
     "output_type": "stream",
     "text": [
      "/usr/local/src/conda3_runtime/home/envs/DSX-Python35-Spark/lib/python3.5/site-packages/sklearn/metrics/classification.py:1135: UndefinedMetricWarning: F-score is ill-defined and being set to 0.0 in labels with no predicted samples.\n",
      "  'precision', 'predicted', average, warn_for)\n"
     ]
    },
    {
     "name": "stdout",
     "output_type": "stream",
     "text": [
      "[LibLinear]"
     ]
    },
    {
     "name": "stderr",
     "output_type": "stream",
     "text": [
      "/usr/local/src/conda3_runtime/home/envs/DSX-Python35-Spark/lib/python3.5/site-packages/sklearn/metrics/classification.py:1135: UndefinedMetricWarning: F-score is ill-defined and being set to 0.0 in labels with no predicted samples.\n",
      "  'precision', 'predicted', average, warn_for)\n"
     ]
    },
    {
     "name": "stdout",
     "output_type": "stream",
     "text": [
      "[LibLinear]"
     ]
    },
    {
     "name": "stderr",
     "output_type": "stream",
     "text": [
      "/usr/local/src/conda3_runtime/home/envs/DSX-Python35-Spark/lib/python3.5/site-packages/sklearn/metrics/classification.py:1135: UndefinedMetricWarning: F-score is ill-defined and being set to 0.0 in labels with no predicted samples.\n",
      "  'precision', 'predicted', average, warn_for)\n"
     ]
    },
    {
     "name": "stdout",
     "output_type": "stream",
     "text": [
      "[LibLinear]"
     ]
    },
    {
     "name": "stderr",
     "output_type": "stream",
     "text": [
      "/usr/local/src/conda3_runtime/home/envs/DSX-Python35-Spark/lib/python3.5/site-packages/sklearn/metrics/classification.py:1135: UndefinedMetricWarning: F-score is ill-defined and being set to 0.0 in labels with no predicted samples.\n",
      "  'precision', 'predicted', average, warn_for)\n"
     ]
    },
    {
     "name": "stdout",
     "output_type": "stream",
     "text": [
      "[LibLinear]"
     ]
    },
    {
     "name": "stderr",
     "output_type": "stream",
     "text": [
      "/usr/local/src/conda3_runtime/home/envs/DSX-Python35-Spark/lib/python3.5/site-packages/sklearn/metrics/classification.py:1135: UndefinedMetricWarning: F-score is ill-defined and being set to 0.0 in labels with no predicted samples.\n",
      "  'precision', 'predicted', average, warn_for)\n"
     ]
    },
    {
     "name": "stdout",
     "output_type": "stream",
     "text": [
      "[LibLinear]"
     ]
    },
    {
     "name": "stderr",
     "output_type": "stream",
     "text": [
      "/usr/local/src/conda3_runtime/home/envs/DSX-Python35-Spark/lib/python3.5/site-packages/sklearn/metrics/classification.py:1135: UndefinedMetricWarning: F-score is ill-defined and being set to 0.0 in labels with no predicted samples.\n",
      "  'precision', 'predicted', average, warn_for)\n"
     ]
    },
    {
     "name": "stdout",
     "output_type": "stream",
     "text": [
      "[LibLinear]"
     ]
    },
    {
     "name": "stderr",
     "output_type": "stream",
     "text": [
      "/usr/local/src/conda3_runtime/home/envs/DSX-Python35-Spark/lib/python3.5/site-packages/sklearn/metrics/classification.py:1135: UndefinedMetricWarning: F-score is ill-defined and being set to 0.0 in labels with no predicted samples.\n",
      "  'precision', 'predicted', average, warn_for)\n"
     ]
    },
    {
     "name": "stdout",
     "output_type": "stream",
     "text": [
      "[LibLinear]"
     ]
    },
    {
     "name": "stderr",
     "output_type": "stream",
     "text": [
      "/usr/local/src/conda3_runtime/home/envs/DSX-Python35-Spark/lib/python3.5/site-packages/sklearn/metrics/classification.py:1135: UndefinedMetricWarning: F-score is ill-defined and being set to 0.0 in labels with no predicted samples.\n",
      "  'precision', 'predicted', average, warn_for)\n"
     ]
    },
    {
     "name": "stdout",
     "output_type": "stream",
     "text": [
      "[LibLinear]"
     ]
    },
    {
     "name": "stderr",
     "output_type": "stream",
     "text": [
      "/usr/local/src/conda3_runtime/home/envs/DSX-Python35-Spark/lib/python3.5/site-packages/sklearn/metrics/classification.py:1135: UndefinedMetricWarning: F-score is ill-defined and being set to 0.0 in labels with no predicted samples.\n",
      "  'precision', 'predicted', average, warn_for)\n"
     ]
    },
    {
     "name": "stdout",
     "output_type": "stream",
     "text": [
      "[LibLinear]"
     ]
    },
    {
     "name": "stderr",
     "output_type": "stream",
     "text": [
      "/usr/local/src/conda3_runtime/home/envs/DSX-Python35-Spark/lib/python3.5/site-packages/sklearn/metrics/classification.py:1135: UndefinedMetricWarning: F-score is ill-defined and being set to 0.0 in labels with no predicted samples.\n",
      "  'precision', 'predicted', average, warn_for)\n"
     ]
    },
    {
     "name": "stdout",
     "output_type": "stream",
     "text": [
      "[LibLinear]"
     ]
    },
    {
     "name": "stderr",
     "output_type": "stream",
     "text": [
      "/usr/local/src/conda3_runtime/home/envs/DSX-Python35-Spark/lib/python3.5/site-packages/sklearn/metrics/classification.py:1135: UndefinedMetricWarning: F-score is ill-defined and being set to 0.0 in labels with no predicted samples.\n",
      "  'precision', 'predicted', average, warn_for)\n"
     ]
    },
    {
     "name": "stdout",
     "output_type": "stream",
     "text": [
      "[LibLinear]"
     ]
    },
    {
     "name": "stderr",
     "output_type": "stream",
     "text": [
      "/usr/local/src/conda3_runtime/home/envs/DSX-Python35-Spark/lib/python3.5/site-packages/sklearn/metrics/classification.py:1135: UndefinedMetricWarning: F-score is ill-defined and being set to 0.0 in labels with no predicted samples.\n",
      "  'precision', 'predicted', average, warn_for)\n"
     ]
    },
    {
     "name": "stdout",
     "output_type": "stream",
     "text": [
      "[LibLinear]"
     ]
    },
    {
     "name": "stderr",
     "output_type": "stream",
     "text": [
      "/usr/local/src/conda3_runtime/home/envs/DSX-Python35-Spark/lib/python3.5/site-packages/sklearn/metrics/classification.py:1135: UndefinedMetricWarning: F-score is ill-defined and being set to 0.0 in labels with no predicted samples.\n",
      "  'precision', 'predicted', average, warn_for)\n"
     ]
    },
    {
     "name": "stdout",
     "output_type": "stream",
     "text": [
      "[LibLinear]"
     ]
    },
    {
     "name": "stderr",
     "output_type": "stream",
     "text": [
      "/usr/local/src/conda3_runtime/home/envs/DSX-Python35-Spark/lib/python3.5/site-packages/sklearn/metrics/classification.py:1135: UndefinedMetricWarning: F-score is ill-defined and being set to 0.0 in labels with no predicted samples.\n",
      "  'precision', 'predicted', average, warn_for)\n"
     ]
    },
    {
     "name": "stdout",
     "output_type": "stream",
     "text": [
      "[LibLinear]"
     ]
    },
    {
     "name": "stderr",
     "output_type": "stream",
     "text": [
      "/usr/local/src/conda3_runtime/home/envs/DSX-Python35-Spark/lib/python3.5/site-packages/sklearn/metrics/classification.py:1135: UndefinedMetricWarning: F-score is ill-defined and being set to 0.0 in labels with no predicted samples.\n",
      "  'precision', 'predicted', average, warn_for)\n"
     ]
    },
    {
     "name": "stdout",
     "output_type": "stream",
     "text": [
      "[LibLinear]"
     ]
    },
    {
     "name": "stderr",
     "output_type": "stream",
     "text": [
      "/usr/local/src/conda3_runtime/home/envs/DSX-Python35-Spark/lib/python3.5/site-packages/sklearn/metrics/classification.py:1135: UndefinedMetricWarning: F-score is ill-defined and being set to 0.0 in labels with no predicted samples.\n",
      "  'precision', 'predicted', average, warn_for)\n"
     ]
    },
    {
     "name": "stdout",
     "output_type": "stream",
     "text": [
      "[LibLinear]"
     ]
    },
    {
     "name": "stderr",
     "output_type": "stream",
     "text": [
      "/usr/local/src/conda3_runtime/home/envs/DSX-Python35-Spark/lib/python3.5/site-packages/sklearn/metrics/classification.py:1135: UndefinedMetricWarning: F-score is ill-defined and being set to 0.0 in labels with no predicted samples.\n",
      "  'precision', 'predicted', average, warn_for)\n"
     ]
    },
    {
     "name": "stdout",
     "output_type": "stream",
     "text": [
      "[LibLinear]"
     ]
    },
    {
     "name": "stderr",
     "output_type": "stream",
     "text": [
      "/usr/local/src/conda3_runtime/home/envs/DSX-Python35-Spark/lib/python3.5/site-packages/sklearn/metrics/classification.py:1135: UndefinedMetricWarning: F-score is ill-defined and being set to 0.0 in labels with no predicted samples.\n",
      "  'precision', 'predicted', average, warn_for)\n"
     ]
    },
    {
     "name": "stdout",
     "output_type": "stream",
     "text": [
      "[LibLinear]"
     ]
    },
    {
     "name": "stderr",
     "output_type": "stream",
     "text": [
      "/usr/local/src/conda3_runtime/home/envs/DSX-Python35-Spark/lib/python3.5/site-packages/sklearn/svm/base.py:898: ConvergenceWarning: Liblinear failed to converge, increase the number of iterations.\n",
      "  \"the number of iterations.\", ConvergenceWarning)\n",
      "/usr/local/src/conda3_runtime/home/envs/DSX-Python35-Spark/lib/python3.5/site-packages/sklearn/metrics/classification.py:1135: UndefinedMetricWarning: F-score is ill-defined and being set to 0.0 in labels with no predicted samples.\n",
      "  'precision', 'predicted', average, warn_for)\n"
     ]
    },
    {
     "name": "stdout",
     "output_type": "stream",
     "text": [
      "[LibLinear]"
     ]
    },
    {
     "name": "stderr",
     "output_type": "stream",
     "text": [
      "/usr/local/src/conda3_runtime/home/envs/DSX-Python35-Spark/lib/python3.5/site-packages/sklearn/svm/base.py:898: ConvergenceWarning: Liblinear failed to converge, increase the number of iterations.\n",
      "  \"the number of iterations.\", ConvergenceWarning)\n",
      "/usr/local/src/conda3_runtime/home/envs/DSX-Python35-Spark/lib/python3.5/site-packages/sklearn/metrics/classification.py:1135: UndefinedMetricWarning: F-score is ill-defined and being set to 0.0 in labels with no predicted samples.\n",
      "  'precision', 'predicted', average, warn_for)\n"
     ]
    },
    {
     "name": "stdout",
     "output_type": "stream",
     "text": [
      "[LibLinear]"
     ]
    },
    {
     "name": "stderr",
     "output_type": "stream",
     "text": [
      "/usr/local/src/conda3_runtime/home/envs/DSX-Python35-Spark/lib/python3.5/site-packages/sklearn/svm/base.py:898: ConvergenceWarning: Liblinear failed to converge, increase the number of iterations.\n",
      "  \"the number of iterations.\", ConvergenceWarning)\n",
      "/usr/local/src/conda3_runtime/home/envs/DSX-Python35-Spark/lib/python3.5/site-packages/sklearn/metrics/classification.py:1135: UndefinedMetricWarning: F-score is ill-defined and being set to 0.0 in labels with no predicted samples.\n",
      "  'precision', 'predicted', average, warn_for)\n"
     ]
    },
    {
     "name": "stdout",
     "output_type": "stream",
     "text": [
      "[LibLinear]"
     ]
    },
    {
     "name": "stderr",
     "output_type": "stream",
     "text": [
      "/usr/local/src/conda3_runtime/home/envs/DSX-Python35-Spark/lib/python3.5/site-packages/sklearn/svm/base.py:898: ConvergenceWarning: Liblinear failed to converge, increase the number of iterations.\n",
      "  \"the number of iterations.\", ConvergenceWarning)\n",
      "/usr/local/src/conda3_runtime/home/envs/DSX-Python35-Spark/lib/python3.5/site-packages/sklearn/metrics/classification.py:1135: UndefinedMetricWarning: F-score is ill-defined and being set to 0.0 in labels with no predicted samples.\n",
      "  'precision', 'predicted', average, warn_for)\n"
     ]
    },
    {
     "name": "stdout",
     "output_type": "stream",
     "text": [
      "[LibLinear]"
     ]
    },
    {
     "name": "stderr",
     "output_type": "stream",
     "text": [
      "/usr/local/src/conda3_runtime/home/envs/DSX-Python35-Spark/lib/python3.5/site-packages/sklearn/svm/base.py:898: ConvergenceWarning: Liblinear failed to converge, increase the number of iterations.\n",
      "  \"the number of iterations.\", ConvergenceWarning)\n",
      "/usr/local/src/conda3_runtime/home/envs/DSX-Python35-Spark/lib/python3.5/site-packages/sklearn/metrics/classification.py:1135: UndefinedMetricWarning: F-score is ill-defined and being set to 0.0 in labels with no predicted samples.\n",
      "  'precision', 'predicted', average, warn_for)\n"
     ]
    },
    {
     "name": "stdout",
     "output_type": "stream",
     "text": [
      "[LibLinear]"
     ]
    },
    {
     "name": "stderr",
     "output_type": "stream",
     "text": [
      "/usr/local/src/conda3_runtime/home/envs/DSX-Python35-Spark/lib/python3.5/site-packages/sklearn/svm/base.py:898: ConvergenceWarning: Liblinear failed to converge, increase the number of iterations.\n",
      "  \"the number of iterations.\", ConvergenceWarning)\n",
      "/usr/local/src/conda3_runtime/home/envs/DSX-Python35-Spark/lib/python3.5/site-packages/sklearn/metrics/classification.py:1135: UndefinedMetricWarning: F-score is ill-defined and being set to 0.0 in labels with no predicted samples.\n",
      "  'precision', 'predicted', average, warn_for)\n"
     ]
    },
    {
     "name": "stdout",
     "output_type": "stream",
     "text": [
      "[LibLinear]"
     ]
    },
    {
     "name": "stderr",
     "output_type": "stream",
     "text": [
      "/usr/local/src/conda3_runtime/home/envs/DSX-Python35-Spark/lib/python3.5/site-packages/sklearn/svm/base.py:898: ConvergenceWarning: Liblinear failed to converge, increase the number of iterations.\n",
      "  \"the number of iterations.\", ConvergenceWarning)\n",
      "/usr/local/src/conda3_runtime/home/envs/DSX-Python35-Spark/lib/python3.5/site-packages/sklearn/metrics/classification.py:1135: UndefinedMetricWarning: F-score is ill-defined and being set to 0.0 in labels with no predicted samples.\n",
      "  'precision', 'predicted', average, warn_for)\n"
     ]
    },
    {
     "name": "stdout",
     "output_type": "stream",
     "text": [
      "[LibLinear]"
     ]
    },
    {
     "name": "stderr",
     "output_type": "stream",
     "text": [
      "/usr/local/src/conda3_runtime/home/envs/DSX-Python35-Spark/lib/python3.5/site-packages/sklearn/svm/base.py:898: ConvergenceWarning: Liblinear failed to converge, increase the number of iterations.\n",
      "  \"the number of iterations.\", ConvergenceWarning)\n",
      "/usr/local/src/conda3_runtime/home/envs/DSX-Python35-Spark/lib/python3.5/site-packages/sklearn/metrics/classification.py:1135: UndefinedMetricWarning: F-score is ill-defined and being set to 0.0 in labels with no predicted samples.\n",
      "  'precision', 'predicted', average, warn_for)\n"
     ]
    },
    {
     "name": "stdout",
     "output_type": "stream",
     "text": [
      "[LibLinear]"
     ]
    },
    {
     "name": "stderr",
     "output_type": "stream",
     "text": [
      "/usr/local/src/conda3_runtime/home/envs/DSX-Python35-Spark/lib/python3.5/site-packages/sklearn/svm/base.py:898: ConvergenceWarning: Liblinear failed to converge, increase the number of iterations.\n",
      "  \"the number of iterations.\", ConvergenceWarning)\n",
      "/usr/local/src/conda3_runtime/home/envs/DSX-Python35-Spark/lib/python3.5/site-packages/sklearn/metrics/classification.py:1135: UndefinedMetricWarning: F-score is ill-defined and being set to 0.0 in labels with no predicted samples.\n",
      "  'precision', 'predicted', average, warn_for)\n"
     ]
    },
    {
     "name": "stdout",
     "output_type": "stream",
     "text": [
      "[LibLinear]"
     ]
    },
    {
     "data": {
      "text/plain": [
       "GridSearchCV(cv=3, error_score='raise',\n",
       "       estimator=Pipeline(memory=None,\n",
       "     steps=[('model', LinearSVC(C=1.0, class_weight=None, dual=True, fit_intercept=True,\n",
       "     intercept_scaling=1, loss='squared_hinge', max_iter=1000,\n",
       "     multi_class='ovr', penalty='l2', random_state=None, tol=1e-06,\n",
       "     verbose=True))]),\n",
       "       fit_params=None, iid=True, n_jobs=1,\n",
       "       param_grid={'model__C': [0.1, 1.0, 10.0], 'model__tol': [1e-09, 1e-08, 1e-07]},\n",
       "       pre_dispatch='2*n_jobs', refit=True, return_train_score='warn',\n",
       "       scoring='f1_weighted', verbose=0)"
      ]
     },
     "execution_count": 88,
     "metadata": {},
     "output_type": "execute_result"
    }
   ],
   "source": [
    "param_grid = {\n",
    "    'model__C': [0.1, 1.0, 10.0],\n",
    "    'model__tol': [1e-9, 1e-8, 1e-7],\n",
    "}\n",
    "search = GridSearchCV(pipeline, param_grid, cv=3, scoring='f1_weighted')\n",
    "search.fit(X_test, np.ravel(y_test))"
   ]
  },
  {
   "cell_type": "code",
   "execution_count": 89,
   "metadata": {},
   "outputs": [
    {
     "name": "stdout",
     "output_type": "stream",
     "text": [
      "CPU times: user 760 ms, sys: 35.5 ms, total: 795 ms\n",
      "Wall time: 122 ms\n",
      "             precision    recall  f1-score   support\n",
      "\n",
      "          0       0.31      0.21      0.25      1402\n",
      "          1       1.00      0.00      0.00       631\n",
      "          2       0.00      0.00      0.00       468\n",
      "          3       0.00      0.00      0.00       419\n",
      "          4       1.00      0.00      0.01       260\n",
      "          5       0.00      0.00      0.00       252\n",
      "          6       0.00      0.00      0.00       238\n",
      "          7       0.00      0.00      0.00       223\n",
      "          8       0.00      0.00      0.00       194\n",
      "          9       0.00      0.00      0.00       186\n",
      "         10       0.00      0.00      0.00       165\n",
      "         11       0.00      0.00      0.00       133\n",
      "         12       0.00      0.00      0.00       117\n",
      "         13       0.00      0.00      0.00       130\n",
      "         14       0.00      0.00      0.00        97\n",
      "         15       0.00      0.00      0.00       109\n",
      "         16       0.00      0.00      0.00       108\n",
      "         17       0.00      0.00      0.00       117\n",
      "         18       0.00      0.00      0.00       122\n",
      "         19       0.00      0.00      0.00        81\n",
      "         20       0.00      0.00      0.00        91\n",
      "         21       0.00      0.00      0.00       104\n",
      "         22       0.00      0.00      0.00        85\n",
      "         23       0.00      0.00      0.00        75\n",
      "         24       0.00      0.00      0.00        84\n",
      "         25       0.00      0.00      0.00        92\n",
      "         26       0.00      0.00      0.00        79\n",
      "         27       0.00      0.00      0.00        68\n",
      "         28       0.00      0.00      0.00        62\n",
      "         29       0.00      0.00      0.00        55\n",
      "         30       0.00      0.00      0.00        60\n",
      "         31       0.00      0.00      0.00        50\n",
      "         32       0.00      0.00      0.00        54\n",
      "         33       0.00      0.00      0.00        56\n",
      "         34       0.00      0.00      0.00        52\n",
      "         35       0.00      0.00      0.00        64\n",
      "         36       0.00      0.00      0.00        54\n",
      "         37       0.00      0.00      0.00        55\n",
      "         38       0.00      0.00      0.00        53\n",
      "         39       0.00      0.00      0.00        64\n",
      "         40       0.00      0.00      0.00        50\n",
      "         41       0.00      0.00      0.00        38\n",
      "         42       0.00      0.00      0.00        41\n",
      "         43       0.00      0.00      0.00        55\n",
      "         44       0.00      0.00      0.00        47\n",
      "         45       0.00      0.00      0.00        42\n",
      "         46       0.00      0.00      0.00        49\n",
      "         47       0.00      0.00      0.00        42\n",
      "         48       0.00      0.00      0.00        44\n",
      "         49       0.00      0.00      0.00        29\n",
      "         50       0.00      0.00      0.00        42\n",
      "         51       0.00      0.00      0.00        35\n",
      "         52       0.00      0.00      0.00        41\n",
      "         53       0.00      0.00      0.00        39\n",
      "         54       0.00      0.00      0.00        40\n",
      "         55       0.00      0.00      0.00        33\n",
      "         56       0.00      0.00      0.00        30\n",
      "         57       0.00      0.00      0.00        36\n",
      "         58       0.00      0.00      0.00        34\n",
      "         59       0.00      0.00      0.00        25\n",
      "         60       0.00      0.00      0.00        26\n",
      "         61       0.00      0.00      0.00        30\n",
      "         62       0.00      0.00      0.00        30\n",
      "         63       0.00      0.00      0.00        30\n",
      "         64       0.00      0.00      0.00        32\n",
      "         65       0.00      0.00      0.00        31\n",
      "         66       0.00      0.00      0.00        26\n",
      "         67       0.00      0.00      0.00        36\n",
      "         68       0.00      0.00      0.00        20\n",
      "         69       0.00      0.00      0.00        24\n",
      "         70       0.00      0.00      0.00        32\n",
      "         71       0.00      0.00      0.00        19\n",
      "         72       0.00      0.00      0.00        22\n",
      "         73       0.00      0.00      0.00        30\n",
      "         74       0.00      0.00      0.00        29\n",
      "         75       0.00      0.00      0.00        38\n",
      "         76       0.00      0.00      0.00        31\n",
      "         77       0.00      0.00      0.00        24\n",
      "         78       0.00      0.00      0.00        16\n",
      "         79       0.00      0.00      0.00        26\n",
      "         80       0.00      0.00      0.00        28\n",
      "         81       0.00      0.00      0.00        18\n",
      "         82       0.00      0.00      0.00        19\n",
      "         83       0.00      0.00      0.00        25\n",
      "         84       0.00      0.00      0.00        22\n",
      "         85       0.00      0.00      0.00        28\n",
      "         86       0.00      0.00      0.00        24\n",
      "         87       0.00      0.00      0.00        24\n",
      "         88       0.00      0.00      0.00        20\n",
      "         89       0.00      0.00      0.00        26\n",
      "         90       0.00      0.00      0.00        23\n",
      "         91       0.00      0.00      0.00        23\n",
      "         92       0.00      0.00      0.00        16\n",
      "         93       0.00      0.00      0.00        15\n",
      "         94       0.00      0.00      0.00        19\n",
      "         95       0.00      0.00      0.00        22\n",
      "         96       0.00      0.00      0.00        24\n",
      "         97       0.00      0.00      0.00        20\n",
      "         98       0.00      0.00      0.00        24\n",
      "         99       0.00      0.00      0.00        24\n",
      "        100       0.00      0.00      0.00        20\n",
      "        101       0.00      0.00      0.00        16\n",
      "        102       0.00      0.00      0.00        17\n",
      "        103       0.00      0.00      0.00        14\n",
      "        104       0.00      0.00      0.00         8\n",
      "        105       0.00      0.00      0.00        20\n",
      "        106       0.00      0.00      0.00        19\n",
      "        107       0.00      0.00      0.00        20\n",
      "        108       0.00      0.00      0.00        24\n",
      "        109       0.00      0.00      0.00        23\n",
      "        110       0.00      0.00      0.00        12\n",
      "        111       0.00      0.00      0.00        20\n",
      "        112       0.00      0.00      0.00        20\n",
      "        113       0.00      0.00      0.00        17\n",
      "        114       0.00      0.00      0.00        14\n",
      "        115       0.00      0.00      0.00         9\n",
      "        116       0.00      0.00      0.00        13\n",
      "        117       0.00      0.00      0.00        21\n",
      "        118       0.00      0.00      0.00        18\n",
      "        119       0.00      0.00      0.00        11\n",
      "        120       0.00      0.00      0.00        16\n",
      "        121       0.00      0.00      0.00        20\n",
      "        122       0.00      0.00      0.00        12\n",
      "        123       0.00      0.00      0.00        21\n",
      "        124       0.00      0.00      0.00        14\n",
      "        125       0.00      0.00      0.00        14\n",
      "        126       0.00      0.00      0.00        15\n",
      "        127       0.00      0.00      0.00        13\n",
      "        128       0.00      0.00      0.00        16\n",
      "        129       0.00      0.00      0.00        13\n",
      "        130       0.00      0.00      0.00        14\n",
      "        131       0.00      0.00      0.00        12\n",
      "        132       0.00      0.00      0.00        15\n",
      "        133       0.00      0.00      0.00        10\n",
      "        134       0.00      0.00      0.00        14\n",
      "        135       0.00      0.00      0.00        15\n",
      "        136       0.00      0.00      0.00         8\n",
      "        137       0.00      0.00      0.00        12\n",
      "        138       0.00      0.00      0.00         8\n",
      "        139       0.00      0.00      0.00        13\n",
      "        140       0.00      0.00      0.00        14\n",
      "        141       0.00      0.00      0.00        16\n",
      "        142       0.00      0.00      0.00        12\n",
      "        143       0.00      0.00      0.00        11\n",
      "        144       0.00      0.00      0.00        14\n",
      "        145       0.00      0.00      0.00         4\n",
      "        146       0.00      0.00      0.00        15\n",
      "        147       0.45      0.98      0.62      7193\n",
      "\n",
      "avg / total       0.28      0.45      0.29     16487\n",
      "\n"
     ]
    },
    {
     "name": "stderr",
     "output_type": "stream",
     "text": [
      "/usr/local/src/conda3_runtime/home/envs/DSX-Python35-Spark/lib/python3.5/site-packages/sklearn/metrics/classification.py:1135: UndefinedMetricWarning: Precision and F-score are ill-defined and being set to 0.0 in labels with no predicted samples.\n",
      "  'precision', 'predicted', average, warn_for)\n"
     ]
    }
   ],
   "source": [
    "%time yfit = search.best_estimator_.predict(X_test)\n",
    "print(classification_report(y_test, yfit))"
   ]
  },
  {
   "cell_type": "code",
   "execution_count": 90,
   "metadata": {},
   "outputs": [
    {
     "data": {
      "text/plain": [
       "{'model__C': 0.1, 'model__tol': 1e-09}"
      ]
     },
     "execution_count": 90,
     "metadata": {},
     "output_type": "execute_result"
    }
   ],
   "source": [
    "search.best_params_"
   ]
  },
  {
   "cell_type": "markdown",
   "metadata": {},
   "source": [
    "This really does not look good - even with hyperparameter tuning, we are not getting F1 score to above 0.3. Let us try deep learning instead."
   ]
  },
  {
   "cell_type": "markdown",
   "metadata": {},
   "source": [
    "## Model 2: Simple neural network\n",
    "Let us start with a simple neural network, which we will build with Keras and TensorFlow. \n",
    "\n",
    "Neural networks take in one-hot encoded stuff (not text). We will thus be having 1317 input neurons, and 147 output neurons. We will start with one hidden layer, and use 600 neurons in the hidden layer with 730 neurons (a good first guess for one layer is (input+output)/2). We will have drop layers before and after the hidden layer.\n",
    "\n",
    "We'll measure success with accuracy."
   ]
  },
  {
   "cell_type": "code",
   "execution_count": 91,
   "metadata": {},
   "outputs": [],
   "source": [
    "from keras.models import Sequential\n",
    "from keras.layers import Dense\n",
    "from keras.wrappers.scikit_learn import KerasClassifier\n",
    "from keras.layers import Dropout\n",
    "\n",
    "# Neural network expects a one-hot encoded \n",
    "df_label_onehot2 = pd.get_dummies(df_label, columns={'CategoryLabel'})\n",
    "input_size = df_data2.shape[1]\n",
    "output_size = df_label_onehot2.shape[1]\n",
    "dropRate = 0.2\n",
    "\n",
    "model = Sequential()\n",
    "model.add(Dense(input_size, input_dim=input_size, kernel_initializer='normal', activation='relu'))\n",
    "model.add(Dropout(dropRate))\n",
    "model.add(Dense(((input_size+output_size)//2), kernel_initializer='normal', activation='relu'))\n",
    "model.add(Dropout(dropRate))\n",
    "model.add(Dense(output_size, kernel_initializer='normal', activation='sigmoid'))"
   ]
  },
  {
   "cell_type": "code",
   "execution_count": 94,
   "metadata": {},
   "outputs": [],
   "source": [
    "# Compile model\n",
    "model.compile(loss='binary_crossentropy', optimizer='adam', metrics=['accuracy'])"
   ]
  },
  {
   "cell_type": "code",
   "execution_count": 97,
   "metadata": {},
   "outputs": [],
   "source": [
    "# Need to make a new split since output is one-hot encoded\n",
    "X_train2, X_test2, y_train2, y_test2 = train_test_split(df_data2, df_label_onehot2, random_state=0)"
   ]
  },
  {
   "cell_type": "code",
   "execution_count": 98,
   "metadata": {},
   "outputs": [
    {
     "name": "stdout",
     "output_type": "stream",
     "text": [
      "Epoch 1/30\n",
      "49460/49460 [==============================] - 3s 62us/step - loss: 0.0489 - acc: 0.9909\n",
      "Epoch 2/30\n",
      "49460/49460 [==============================] - 3s 54us/step - loss: 0.0219 - acc: 0.9941\n",
      "Epoch 3/30\n",
      "49460/49460 [==============================] - 3s 53us/step - loss: 0.0210 - acc: 0.9941\n",
      "Epoch 4/30\n",
      "49460/49460 [==============================] - 3s 54us/step - loss: 0.0206 - acc: 0.9941\n",
      "Epoch 5/30\n",
      "49460/49460 [==============================] - 3s 54us/step - loss: 0.0204 - acc: 0.9941\n",
      "Epoch 6/30\n",
      "49460/49460 [==============================] - 3s 54us/step - loss: 0.0202 - acc: 0.9941\n",
      "Epoch 7/30\n",
      "49460/49460 [==============================] - 3s 54us/step - loss: 0.0202 - acc: 0.9941\n",
      "Epoch 8/30\n",
      "49460/49460 [==============================] - 3s 52us/step - loss: 0.0201 - acc: 0.9941\n",
      "Epoch 9/30\n",
      "49460/49460 [==============================] - 3s 53us/step - loss: 0.0200 - acc: 0.9941\n",
      "Epoch 10/30\n",
      "49460/49460 [==============================] - 3s 53us/step - loss: 0.0200 - acc: 0.9941\n",
      "Epoch 11/30\n",
      "49460/49460 [==============================] - 3s 54us/step - loss: 0.0199 - acc: 0.9941\n",
      "Epoch 12/30\n",
      "49460/49460 [==============================] - 3s 55us/step - loss: 0.0199 - acc: 0.9941\n",
      "Epoch 13/30\n",
      "49460/49460 [==============================] - 3s 54us/step - loss: 0.0199 - acc: 0.9941\n",
      "Epoch 14/30\n",
      "49460/49460 [==============================] - 3s 55us/step - loss: 0.0198 - acc: 0.9942\n",
      "Epoch 15/30\n",
      "49460/49460 [==============================] - 3s 54us/step - loss: 0.0198 - acc: 0.9941\n",
      "Epoch 16/30\n",
      "49460/49460 [==============================] - 3s 53us/step - loss: 0.0198 - acc: 0.9942\n",
      "Epoch 17/30\n",
      "49460/49460 [==============================] - 3s 54us/step - loss: 0.0198 - acc: 0.9942\n",
      "Epoch 18/30\n",
      "49460/49460 [==============================] - 3s 53us/step - loss: 0.0197 - acc: 0.9942\n",
      "Epoch 19/30\n",
      "49460/49460 [==============================] - 3s 55us/step - loss: 0.0197 - acc: 0.9942\n",
      "Epoch 20/30\n",
      "49460/49460 [==============================] - 3s 54us/step - loss: 0.0197 - acc: 0.9942\n",
      "Epoch 21/30\n",
      "49460/49460 [==============================] - 3s 55us/step - loss: 0.0197 - acc: 0.9942\n",
      "Epoch 22/30\n",
      "49460/49460 [==============================] - 3s 56us/step - loss: 0.0197 - acc: 0.9942\n",
      "Epoch 23/30\n",
      "49460/49460 [==============================] - 3s 55us/step - loss: 0.0197 - acc: 0.9942\n",
      "Epoch 24/30\n",
      "49460/49460 [==============================] - 3s 55us/step - loss: 0.0197 - acc: 0.9942\n",
      "Epoch 25/30\n",
      "49460/49460 [==============================] - 3s 55us/step - loss: 0.0197 - acc: 0.9942\n",
      "Epoch 26/30\n",
      "49460/49460 [==============================] - 3s 54us/step - loss: 0.0197 - acc: 0.9942\n",
      "Epoch 27/30\n",
      "49460/49460 [==============================] - 3s 54us/step - loss: 0.0197 - acc: 0.9942\n",
      "Epoch 28/30\n",
      "49460/49460 [==============================] - 3s 53us/step - loss: 0.0196 - acc: 0.9942\n",
      "Epoch 29/30\n",
      "49460/49460 [==============================] - 3s 54us/step - loss: 0.0196 - acc: 0.9942\n",
      "Epoch 30/30\n",
      "49460/49460 [==============================] - 3s 55us/step - loss: 0.0196 - acc: 0.9942\n"
     ]
    },
    {
     "data": {
      "text/plain": [
       "<keras.callbacks.History at 0x7f879c524be0>"
      ]
     },
     "execution_count": 98,
     "metadata": {},
     "output_type": "execute_result"
    }
   ],
   "source": [
    "# Train model, start with 30 epochs\n",
    "model.fit(X_train2, y_train2, epochs=30, batch_size=64)"
   ]
  },
  {
   "cell_type": "code",
   "execution_count": 99,
   "metadata": {},
   "outputs": [
    {
     "name": "stdout",
     "output_type": "stream",
     "text": [
      "16487/16487 [==============================] - 1s 39us/step\n"
     ]
    },
    {
     "data": {
      "text/plain": [
       "[0.019802677436357972, 0.99423007689750365]"
      ]
     },
     "execution_count": 99,
     "metadata": {},
     "output_type": "execute_result"
    }
   ],
   "source": [
    "model.evaluate(X_test2, y_test2)"
   ]
  },
  {
   "cell_type": "markdown",
   "metadata": {},
   "source": [
    "Wow! Now we are talking. Even this simple neural network beats SVM hands down in this case. The result is impressive 99.4% accuracy. From business perspective, this would be enough. It is noteworthy that training this network was relatively fast, in the order of one minute in the environment used."
   ]
  },
  {
   "cell_type": "markdown",
   "metadata": {},
   "source": [
    "# Results and discussion\n",
    "Our research question was this:\n",
    "* Can you predict the decision phrases of housing benefit applications, given application and relevant customer data (at least for some subset of applications)?\n",
    "\n",
    "We can now answer this question as follows: yes, we can reliably predict contents of housing benefit decisions based on quite limited number of input variables, if we limit ourselves to subsets of applications. The reliability is quite high, in the order of 99,4%."
   ]
  },
  {
   "cell_type": "code",
   "execution_count": null,
   "metadata": {},
   "outputs": [],
   "source": []
  }
 ],
 "metadata": {
  "kernelspec": {
   "display_name": "Python 3",
   "language": "python",
   "name": "python3"
  },
  "language_info": {
   "codemirror_mode": {
    "name": "ipython",
    "version": 3
   },
   "file_extension": ".py",
   "mimetype": "text/x-python",
   "name": "python",
   "nbconvert_exporter": "python",
   "pygments_lexer": "ipython3",
   "version": "3.6.5"
  }
 },
 "nbformat": 4,
 "nbformat_minor": 1
}
